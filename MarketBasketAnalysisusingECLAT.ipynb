{
  "nbformat": 4,
  "nbformat_minor": 0,
  "metadata": {
    "colab": {
      "provenance": [],
      "authorship_tag": "ABX9TyPUvFuCtEZ/fPwcGab2CFYV",
      "include_colab_link": true
    },
    "kernelspec": {
      "name": "python3",
      "display_name": "Python 3"
    },
    "language_info": {
      "name": "python"
    }
  },
  "cells": [
    {
      "cell_type": "markdown",
      "metadata": {
        "id": "view-in-github",
        "colab_type": "text"
      },
      "source": [
        "<a href=\"https://colab.research.google.com/github/riyajaiswal25/MLProjects/blob/main/MarketBasketAnalysisusingECLAT.ipynb\" target=\"_parent\"><img src=\"https://colab.research.google.com/assets/colab-badge.svg\" alt=\"Open In Colab\"/></a>"
      ]
    },
    {
      "cell_type": "markdown",
      "source": [
        "# **Market Basket Analysis Using ECLAT**"
      ],
      "metadata": {
        "id": "_iqfK0bLoJ69"
      }
    },
    {
      "cell_type": "markdown",
      "source": [
        "***Imorting the basic libraries***"
      ],
      "metadata": {
        "id": "MyXVsBrcoOg_"
      }
    },
    {
      "cell_type": "code",
      "execution_count": 1,
      "metadata": {
        "colab": {
          "base_uri": "https://localhost:8080/"
        },
        "id": "Jj73PMMkoDRR",
        "outputId": "38a54420-1fef-4739-8fec-3d3dbc651c04"
      },
      "outputs": [
        {
          "output_type": "stream",
          "name": "stdout",
          "text": [
            "Looking in indexes: https://pypi.org/simple, https://us-python.pkg.dev/colab-wheels/public/simple/\n",
            "Collecting pyECLAT\n",
            "  Downloading pyECLAT-1.0.2-py3-none-any.whl (6.3 kB)\n",
            "Requirement already satisfied: tqdm>=4.41.1 in /usr/local/lib/python3.7/dist-packages (from pyECLAT) (4.64.1)\n",
            "Requirement already satisfied: pandas>=0.25.3 in /usr/local/lib/python3.7/dist-packages (from pyECLAT) (1.3.5)\n",
            "Requirement already satisfied: numpy>=1.17.4 in /usr/local/lib/python3.7/dist-packages (from pyECLAT) (1.21.6)\n",
            "Requirement already satisfied: pytz>=2017.3 in /usr/local/lib/python3.7/dist-packages (from pandas>=0.25.3->pyECLAT) (2022.4)\n",
            "Requirement already satisfied: python-dateutil>=2.7.3 in /usr/local/lib/python3.7/dist-packages (from pandas>=0.25.3->pyECLAT) (2.8.2)\n",
            "Requirement already satisfied: six>=1.5 in /usr/local/lib/python3.7/dist-packages (from python-dateutil>=2.7.3->pandas>=0.25.3->pyECLAT) (1.15.0)\n",
            "Installing collected packages: pyECLAT\n",
            "Successfully installed pyECLAT-1.0.2\n"
          ]
        }
      ],
      "source": [
        "!pip install pyECLAT\n",
        "import pandas as pd"
      ]
    },
    {
      "cell_type": "markdown",
      "source": [
        "***Load Dataset from Local Directory***"
      ],
      "metadata": {
        "id": "trJmBbHQojlJ"
      }
    },
    {
      "cell_type": "code",
      "source": [
        "from google.colab import files\n",
        "uploaded = files.upload()"
      ],
      "metadata": {
        "colab": {
          "base_uri": "https://localhost:8080/",
          "height": 73
        },
        "id": "XOPtn1xHoSBK",
        "outputId": "d0a9a9c6-d26e-4a44-df6c-85022a804059"
      },
      "execution_count": 2,
      "outputs": [
        {
          "output_type": "display_data",
          "data": {
            "text/plain": [
              "<IPython.core.display.HTML object>"
            ],
            "text/html": [
              "\n",
              "     <input type=\"file\" id=\"files-95fa0ff1-2694-4978-96e8-342b9d063974\" name=\"files[]\" multiple disabled\n",
              "        style=\"border:none\" />\n",
              "     <output id=\"result-95fa0ff1-2694-4978-96e8-342b9d063974\">\n",
              "      Upload widget is only available when the cell has been executed in the\n",
              "      current browser session. Please rerun this cell to enable.\n",
              "      </output>\n",
              "      <script>// Copyright 2017 Google LLC\n",
              "//\n",
              "// Licensed under the Apache License, Version 2.0 (the \"License\");\n",
              "// you may not use this file except in compliance with the License.\n",
              "// You may obtain a copy of the License at\n",
              "//\n",
              "//      http://www.apache.org/licenses/LICENSE-2.0\n",
              "//\n",
              "// Unless required by applicable law or agreed to in writing, software\n",
              "// distributed under the License is distributed on an \"AS IS\" BASIS,\n",
              "// WITHOUT WARRANTIES OR CONDITIONS OF ANY KIND, either express or implied.\n",
              "// See the License for the specific language governing permissions and\n",
              "// limitations under the License.\n",
              "\n",
              "/**\n",
              " * @fileoverview Helpers for google.colab Python module.\n",
              " */\n",
              "(function(scope) {\n",
              "function span(text, styleAttributes = {}) {\n",
              "  const element = document.createElement('span');\n",
              "  element.textContent = text;\n",
              "  for (const key of Object.keys(styleAttributes)) {\n",
              "    element.style[key] = styleAttributes[key];\n",
              "  }\n",
              "  return element;\n",
              "}\n",
              "\n",
              "// Max number of bytes which will be uploaded at a time.\n",
              "const MAX_PAYLOAD_SIZE = 100 * 1024;\n",
              "\n",
              "function _uploadFiles(inputId, outputId) {\n",
              "  const steps = uploadFilesStep(inputId, outputId);\n",
              "  const outputElement = document.getElementById(outputId);\n",
              "  // Cache steps on the outputElement to make it available for the next call\n",
              "  // to uploadFilesContinue from Python.\n",
              "  outputElement.steps = steps;\n",
              "\n",
              "  return _uploadFilesContinue(outputId);\n",
              "}\n",
              "\n",
              "// This is roughly an async generator (not supported in the browser yet),\n",
              "// where there are multiple asynchronous steps and the Python side is going\n",
              "// to poll for completion of each step.\n",
              "// This uses a Promise to block the python side on completion of each step,\n",
              "// then passes the result of the previous step as the input to the next step.\n",
              "function _uploadFilesContinue(outputId) {\n",
              "  const outputElement = document.getElementById(outputId);\n",
              "  const steps = outputElement.steps;\n",
              "\n",
              "  const next = steps.next(outputElement.lastPromiseValue);\n",
              "  return Promise.resolve(next.value.promise).then((value) => {\n",
              "    // Cache the last promise value to make it available to the next\n",
              "    // step of the generator.\n",
              "    outputElement.lastPromiseValue = value;\n",
              "    return next.value.response;\n",
              "  });\n",
              "}\n",
              "\n",
              "/**\n",
              " * Generator function which is called between each async step of the upload\n",
              " * process.\n",
              " * @param {string} inputId Element ID of the input file picker element.\n",
              " * @param {string} outputId Element ID of the output display.\n",
              " * @return {!Iterable<!Object>} Iterable of next steps.\n",
              " */\n",
              "function* uploadFilesStep(inputId, outputId) {\n",
              "  const inputElement = document.getElementById(inputId);\n",
              "  inputElement.disabled = false;\n",
              "\n",
              "  const outputElement = document.getElementById(outputId);\n",
              "  outputElement.innerHTML = '';\n",
              "\n",
              "  const pickedPromise = new Promise((resolve) => {\n",
              "    inputElement.addEventListener('change', (e) => {\n",
              "      resolve(e.target.files);\n",
              "    });\n",
              "  });\n",
              "\n",
              "  const cancel = document.createElement('button');\n",
              "  inputElement.parentElement.appendChild(cancel);\n",
              "  cancel.textContent = 'Cancel upload';\n",
              "  const cancelPromise = new Promise((resolve) => {\n",
              "    cancel.onclick = () => {\n",
              "      resolve(null);\n",
              "    };\n",
              "  });\n",
              "\n",
              "  // Wait for the user to pick the files.\n",
              "  const files = yield {\n",
              "    promise: Promise.race([pickedPromise, cancelPromise]),\n",
              "    response: {\n",
              "      action: 'starting',\n",
              "    }\n",
              "  };\n",
              "\n",
              "  cancel.remove();\n",
              "\n",
              "  // Disable the input element since further picks are not allowed.\n",
              "  inputElement.disabled = true;\n",
              "\n",
              "  if (!files) {\n",
              "    return {\n",
              "      response: {\n",
              "        action: 'complete',\n",
              "      }\n",
              "    };\n",
              "  }\n",
              "\n",
              "  for (const file of files) {\n",
              "    const li = document.createElement('li');\n",
              "    li.append(span(file.name, {fontWeight: 'bold'}));\n",
              "    li.append(span(\n",
              "        `(${file.type || 'n/a'}) - ${file.size} bytes, ` +\n",
              "        `last modified: ${\n",
              "            file.lastModifiedDate ? file.lastModifiedDate.toLocaleDateString() :\n",
              "                                    'n/a'} - `));\n",
              "    const percent = span('0% done');\n",
              "    li.appendChild(percent);\n",
              "\n",
              "    outputElement.appendChild(li);\n",
              "\n",
              "    const fileDataPromise = new Promise((resolve) => {\n",
              "      const reader = new FileReader();\n",
              "      reader.onload = (e) => {\n",
              "        resolve(e.target.result);\n",
              "      };\n",
              "      reader.readAsArrayBuffer(file);\n",
              "    });\n",
              "    // Wait for the data to be ready.\n",
              "    let fileData = yield {\n",
              "      promise: fileDataPromise,\n",
              "      response: {\n",
              "        action: 'continue',\n",
              "      }\n",
              "    };\n",
              "\n",
              "    // Use a chunked sending to avoid message size limits. See b/62115660.\n",
              "    let position = 0;\n",
              "    do {\n",
              "      const length = Math.min(fileData.byteLength - position, MAX_PAYLOAD_SIZE);\n",
              "      const chunk = new Uint8Array(fileData, position, length);\n",
              "      position += length;\n",
              "\n",
              "      const base64 = btoa(String.fromCharCode.apply(null, chunk));\n",
              "      yield {\n",
              "        response: {\n",
              "          action: 'append',\n",
              "          file: file.name,\n",
              "          data: base64,\n",
              "        },\n",
              "      };\n",
              "\n",
              "      let percentDone = fileData.byteLength === 0 ?\n",
              "          100 :\n",
              "          Math.round((position / fileData.byteLength) * 100);\n",
              "      percent.textContent = `${percentDone}% done`;\n",
              "\n",
              "    } while (position < fileData.byteLength);\n",
              "  }\n",
              "\n",
              "  // All done.\n",
              "  yield {\n",
              "    response: {\n",
              "      action: 'complete',\n",
              "    }\n",
              "  };\n",
              "}\n",
              "\n",
              "scope.google = scope.google || {};\n",
              "scope.google.colab = scope.google.colab || {};\n",
              "scope.google.colab._files = {\n",
              "  _uploadFiles,\n",
              "  _uploadFilesContinue,\n",
              "};\n",
              "})(self);\n",
              "</script> "
            ]
          },
          "metadata": {}
        },
        {
          "output_type": "stream",
          "name": "stdout",
          "text": [
            "Saving Market_Basket_Optimisation.csv to Market_Basket_Optimisation.csv\n"
          ]
        }
      ]
    },
    {
      "cell_type": "markdown",
      "source": [
        "***Importing the dataset***"
      ],
      "metadata": {
        "id": "g37bcfH0o3iX"
      }
    },
    {
      "cell_type": "code",
      "source": [
        "dataset = pd.read_csv('dataset.csv', header=None)\n",
        "print(dataset.shape)\n",
        "print(dataset.head(5))"
      ],
      "metadata": {
        "colab": {
          "base_uri": "https://localhost:8080/"
        },
        "id": "wFfBqqqzo64M",
        "outputId": "93e57eeb-f682-40a7-a406-1edecfefd377"
      },
      "execution_count": 3,
      "outputs": [
        {
          "output_type": "stream",
          "name": "stdout",
          "text": [
            "(7501, 20)\n",
            "              0          1           2                 3             4   \\\n",
            "0         shrimp    almonds     avocado    vegetables mix  green grapes   \n",
            "1        burgers  meatballs        eggs               NaN           NaN   \n",
            "2        chutney        NaN         NaN               NaN           NaN   \n",
            "3         turkey    avocado         NaN               NaN           NaN   \n",
            "4  mineral water       milk  energy bar  whole wheat rice     green tea   \n",
            "\n",
            "                 5     6               7             8             9   \\\n",
            "0  whole weat flour  yams  cottage cheese  energy drink  tomato juice   \n",
            "1               NaN   NaN             NaN           NaN           NaN   \n",
            "2               NaN   NaN             NaN           NaN           NaN   \n",
            "3               NaN   NaN             NaN           NaN           NaN   \n",
            "4               NaN   NaN             NaN           NaN           NaN   \n",
            "\n",
            "               10         11     12     13             14      15  \\\n",
            "0  low fat yogurt  green tea  honey  salad  mineral water  salmon   \n",
            "1             NaN        NaN    NaN    NaN            NaN     NaN   \n",
            "2             NaN        NaN    NaN    NaN            NaN     NaN   \n",
            "3             NaN        NaN    NaN    NaN            NaN     NaN   \n",
            "4             NaN        NaN    NaN    NaN            NaN     NaN   \n",
            "\n",
            "                  16               17       18         19  \n",
            "0  antioxydant juice  frozen smoothie  spinach  olive oil  \n",
            "1                NaN              NaN      NaN        NaN  \n",
            "2                NaN              NaN      NaN        NaN  \n",
            "3                NaN              NaN      NaN        NaN  \n",
            "4                NaN              NaN      NaN        NaN  \n"
          ]
        }
      ]
    },
    {
      "cell_type": "markdown",
      "source": [
        "***Training APRIORI***"
      ],
      "metadata": {
        "id": "CTJ1rmSQpkxX"
      }
    },
    {
      "cell_type": "code",
      "source": [
        "from pyECLAT import ECLAT\n",
        "eclat_instance = ECLAT(data=dataset, verbose=True) #verbose=True to see the loading bar"
      ],
      "metadata": {
        "colab": {
          "base_uri": "https://localhost:8080/"
        },
        "id": "Cn8go4X8pnrA",
        "outputId": "8a429ea8-17c5-4d75-f296-11c9d9d9853c"
      },
      "execution_count": 4,
      "outputs": [
        {
          "output_type": "stream",
          "name": "stderr",
          "text": [
            "100%|██████████| 120/120 [00:01<00:00, 67.36it/s]\n",
            "100%|██████████| 120/120 [00:00<00:00, 2704.80it/s]\n",
            "100%|██████████| 120/120 [00:00<00:00, 2709.89it/s]\n"
          ]
        }
      ]
    },
    {
      "cell_type": "markdown",
      "source": [
        "***Results***"
      ],
      "metadata": {
        "id": "KqwgmYHJp6cI"
      }
    },
    {
      "cell_type": "code",
      "source": [
        "result = eclat_instance.support(min_support=None)\n",
        "result"
      ],
      "metadata": {
        "colab": {
          "base_uri": "https://localhost:8080/"
        },
        "id": "97UNJl11p8de",
        "outputId": "4698363e-faae-41f4-d01c-27e9da9995ed"
      },
      "execution_count": 5,
      "outputs": [
        {
          "output_type": "execute_result",
          "data": {
            "text/plain": [
              "{'protein bar': 0.01853086255165978,\n",
              " 'ham': 0.026529796027196375,\n",
              " 'melons': 0.011998400213304892,\n",
              " 'energy drink': 0.026663111585121985,\n",
              " ' asparagus': 0.0001333155579256099,\n",
              " 'whole wheat rice': 0.058525529929342755,\n",
              " 'milk': 0.12958272230369283,\n",
              " 'strawberries': 0.021330489268097587,\n",
              " 'oil': 0.023063591521130515,\n",
              " 'cookies': 0.08038928142914278,\n",
              " 'champagne': 0.04679376083188908,\n",
              " 'tea': 0.0038661511798426876,\n",
              " 'almonds': 0.020397280362618318,\n",
              " 'brownies': 0.03372883615517931,\n",
              " 'bramble': 0.0018664178109585388,\n",
              " 'whole wheat pasta': 0.029462738301559793,\n",
              " 'honey': 0.047460338621517134,\n",
              " 'chili': 0.0061325156645780565,\n",
              " 'pasta': 0.01573123583522197,\n",
              " 'frozen smoothie': 0.06332489001466471,\n",
              " 'fresh bread': 0.043060925209972005,\n",
              " 'hand protein bar': 0.005199306759098787,\n",
              " 'burger sauce': 0.005865884548726837,\n",
              " 'barbecue sauce': 0.010798560191974404,\n",
              " 'zucchini': 0.009465404612718305,\n",
              " 'low fat yogurt': 0.07652313024930009,\n",
              " 'extra dark chocolate': 0.011998400213304892,\n",
              " 'mint green tea': 0.005599253432875617,\n",
              " 'magazines': 0.010931875749900012,\n",
              " 'escalope': 0.0793227569657379,\n",
              " 'salt': 0.009198773496867084,\n",
              " 'oatmeal': 0.004399413411545127,\n",
              " 'burgers': 0.0871883748833489,\n",
              " 'muffins': 0.024130115984535395,\n",
              " 'meatballs': 0.020930542594320756,\n",
              " 'mayonnaise': 0.0061325156645780565,\n",
              " 'bug spray': 0.008665511265164644,\n",
              " 'chocolate bread': 0.004266097853619517,\n",
              " 'spaghetti': 0.17411011865084655,\n",
              " 'vegetables mix': 0.025729902679642713,\n",
              " 'pet food': 0.006532462338354886,\n",
              " 'eggs': 0.17970937208372217,\n",
              " 'fresh tuna': 0.022263698173576856,\n",
              " 'energy bar': 0.027063058258898813,\n",
              " 'sparkling water': 0.006265831222503666,\n",
              " 'carrots': 0.01533128916144514,\n",
              " 'green beans': 0.008665511265164644,\n",
              " 'cider': 0.010531929076123183,\n",
              " 'pepper': 0.026529796027196375,\n",
              " 'gums': 0.013464871350486601,\n",
              " 'flax seed': 0.009065457938941474,\n",
              " 'dessert wine': 0.004399413411545127,\n",
              " 'red wine': 0.028129582722303693,\n",
              " 'butter': 0.030129316091187842,\n",
              " 'green grapes': 0.009065457938941474,\n",
              " 'strong cheese': 0.007732302359685375,\n",
              " 'mushroom cream sauce': 0.019064124783362217,\n",
              " 'cottage cheese': 0.03186241834422077,\n",
              " 'salmon': 0.04252766297826956,\n",
              " 'yams': 0.011465137981602452,\n",
              " 'yogurt cake': 0.027329689374750034,\n",
              " 'green tea': 0.13211571790427942,\n",
              " 'fromage blanc': 0.013598186908412212,\n",
              " 'pancakes': 0.09505399280095987,\n",
              " 'herb & pepper': 0.04946007199040128,\n",
              " 'soup': 0.05052659645380616,\n",
              " 'mint': 0.0174643380882549,\n",
              " 'tomato sauce': 0.014131449140114652,\n",
              " 'hot dogs': 0.03239568057592321,\n",
              " 'cream': 0.0009332089054792694,\n",
              " 'body spray': 0.011465137981602452,\n",
              " 'candy bars': 0.009732035728569524,\n",
              " 'chocolate': 0.1638448206905746,\n",
              " 'tomato juice': 0.030395947207039063,\n",
              " 'shampoo': 0.004932675643247567,\n",
              " 'cauliflower': 0.004799360085321957,\n",
              " 'black tea': 0.014264764698040262,\n",
              " 'chicken': 0.05999200106652446,\n",
              " 'turkey': 0.06252499666711105,\n",
              " 'grated cheese': 0.0523930142647647,\n",
              " 'eggplant': 0.013198240234635382,\n",
              " 'tomatoes': 0.06839088121583789,\n",
              " 'spinach': 0.007065724570057326,\n",
              " 'shallot': 0.007732302359685375,\n",
              " 'pickles': 0.005999200106652446,\n",
              " 'ketchup': 0.004399413411545127,\n",
              " 'whole weat flour': 0.009332089054792695,\n",
              " 'blueberries': 0.009198773496867084,\n",
              " 'rice': 0.018797493667511,\n",
              " 'toothpaste': 0.008132249033462205,\n",
              " 'light cream': 0.01559792027729636,\n",
              " 'avocado': 0.03332888948140248,\n",
              " 'nonfat milk': 0.010398613518197574,\n",
              " 'olive oil': 0.0658578856152513,\n",
              " 'shrimp': 0.07145713904812692,\n",
              " 'frozen vegetables': 0.09532062391681109,\n",
              " 'sandwich': 0.004532728969470737,\n",
              " 'asparagus': 0.004666044527396347,\n",
              " 'gluten free bar': 0.006932409012131715,\n",
              " 'french wine': 0.022530329289428077,\n",
              " 'mashed potato': 0.0041327822956939075,\n",
              " 'parmesan cheese': 0.01986401813091588,\n",
              " 'french fries': 0.1709105452606319,\n",
              " 'antioxydant juice': 0.008932142381015865,\n",
              " 'babies food': 0.004532728969470737,\n",
              " 'napkins': 0.0006665777896280496,\n",
              " 'cake': 0.08105585921877083,\n",
              " 'corn': 0.004799360085321957,\n",
              " 'water spray': 0.0003999466737768298,\n",
              " 'ground beef': 0.09825356619117451,\n",
              " 'white wine': 0.01653112918277563,\n",
              " 'mineral water': 0.23836821757099053,\n",
              " 'light mayo': 0.027196373816824423,\n",
              " 'soda': 0.006265831222503666,\n",
              " 'chutney': 0.0041327822956939075,\n",
              " 'cooking oil': 0.0510598586855086,\n",
              " 'cereals': 0.025729902679642713,\n",
              " 'bacon': 0.008665511265164644,\n",
              " 'clothes accessories': 0.008398880149313425,\n",
              " 'salad': 0.004932675643247567}"
            ]
          },
          "metadata": {},
          "execution_count": 5
        }
      ]
    }
  ]
}