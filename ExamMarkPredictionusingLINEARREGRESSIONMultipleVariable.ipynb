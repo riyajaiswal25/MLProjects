{
  "nbformat": 4,
  "nbformat_minor": 0,
  "metadata": {
    "colab": {
      "provenance": [],
      "authorship_tag": "ABX9TyMdiRCAXaKNZVxdkLrmDGpV",
      "include_colab_link": true
    },
    "kernelspec": {
      "name": "python3",
      "display_name": "Python 3"
    },
    "language_info": {
      "name": "python"
    }
  },
  "cells": [
    {
      "cell_type": "markdown",
      "metadata": {
        "id": "view-in-github",
        "colab_type": "text"
      },
      "source": [
        "<a href=\"https://colab.research.google.com/github/riyajaiswal25/MLProjects/blob/main/ExamMarkPredictionusingLINEARREGRESSIONMultipleVariable.ipynb\" target=\"_parent\"><img src=\"https://colab.research.google.com/assets/colab-badge.svg\" alt=\"Open In Colab\"/></a>"
      ]
    },
    {
      "cell_type": "markdown",
      "source": [
        "# Exam Mark Prediction using LINEAR REGRESSION Multiple Variable"
      ],
      "metadata": {
        "id": "62q0faxhfVFk"
      }
    },
    {
      "cell_type": "markdown",
      "source": [
        "***Importing Libraries***"
      ],
      "metadata": {
        "id": "jyAGJxFDfhao"
      }
    },
    {
      "cell_type": "code",
      "execution_count": 1,
      "metadata": {
        "id": "1RkroWKpfLih"
      },
      "outputs": [],
      "source": [
        "import pandas as pd\n",
        "from sklearn.linear_model import LinearRegression"
      ]
    },
    {
      "cell_type": "markdown",
      "source": [
        "***Load Dataset from Local Directory***"
      ],
      "metadata": {
        "id": "8pSFb489zWpw"
      }
    },
    {
      "cell_type": "code",
      "source": [
        "from google.colab import files\n",
        "uploaded = files.upload()"
      ],
      "metadata": {
        "colab": {
          "base_uri": "https://localhost:8080/",
          "height": 73
        },
        "id": "8OMGBLhwzb0I",
        "outputId": "def4fea0-843a-425e-e79c-aff835543aa0"
      },
      "execution_count": 2,
      "outputs": [
        {
          "output_type": "display_data",
          "data": {
            "text/plain": [
              "<IPython.core.display.HTML object>"
            ],
            "text/html": [
              "\n",
              "     <input type=\"file\" id=\"files-2582dc60-b31d-4600-8dc8-2d122eadc307\" name=\"files[]\" multiple disabled\n",
              "        style=\"border:none\" />\n",
              "     <output id=\"result-2582dc60-b31d-4600-8dc8-2d122eadc307\">\n",
              "      Upload widget is only available when the cell has been executed in the\n",
              "      current browser session. Please rerun this cell to enable.\n",
              "      </output>\n",
              "      <script>// Copyright 2017 Google LLC\n",
              "//\n",
              "// Licensed under the Apache License, Version 2.0 (the \"License\");\n",
              "// you may not use this file except in compliance with the License.\n",
              "// You may obtain a copy of the License at\n",
              "//\n",
              "//      http://www.apache.org/licenses/LICENSE-2.0\n",
              "//\n",
              "// Unless required by applicable law or agreed to in writing, software\n",
              "// distributed under the License is distributed on an \"AS IS\" BASIS,\n",
              "// WITHOUT WARRANTIES OR CONDITIONS OF ANY KIND, either express or implied.\n",
              "// See the License for the specific language governing permissions and\n",
              "// limitations under the License.\n",
              "\n",
              "/**\n",
              " * @fileoverview Helpers for google.colab Python module.\n",
              " */\n",
              "(function(scope) {\n",
              "function span(text, styleAttributes = {}) {\n",
              "  const element = document.createElement('span');\n",
              "  element.textContent = text;\n",
              "  for (const key of Object.keys(styleAttributes)) {\n",
              "    element.style[key] = styleAttributes[key];\n",
              "  }\n",
              "  return element;\n",
              "}\n",
              "\n",
              "// Max number of bytes which will be uploaded at a time.\n",
              "const MAX_PAYLOAD_SIZE = 100 * 1024;\n",
              "\n",
              "function _uploadFiles(inputId, outputId) {\n",
              "  const steps = uploadFilesStep(inputId, outputId);\n",
              "  const outputElement = document.getElementById(outputId);\n",
              "  // Cache steps on the outputElement to make it available for the next call\n",
              "  // to uploadFilesContinue from Python.\n",
              "  outputElement.steps = steps;\n",
              "\n",
              "  return _uploadFilesContinue(outputId);\n",
              "}\n",
              "\n",
              "// This is roughly an async generator (not supported in the browser yet),\n",
              "// where there are multiple asynchronous steps and the Python side is going\n",
              "// to poll for completion of each step.\n",
              "// This uses a Promise to block the python side on completion of each step,\n",
              "// then passes the result of the previous step as the input to the next step.\n",
              "function _uploadFilesContinue(outputId) {\n",
              "  const outputElement = document.getElementById(outputId);\n",
              "  const steps = outputElement.steps;\n",
              "\n",
              "  const next = steps.next(outputElement.lastPromiseValue);\n",
              "  return Promise.resolve(next.value.promise).then((value) => {\n",
              "    // Cache the last promise value to make it available to the next\n",
              "    // step of the generator.\n",
              "    outputElement.lastPromiseValue = value;\n",
              "    return next.value.response;\n",
              "  });\n",
              "}\n",
              "\n",
              "/**\n",
              " * Generator function which is called between each async step of the upload\n",
              " * process.\n",
              " * @param {string} inputId Element ID of the input file picker element.\n",
              " * @param {string} outputId Element ID of the output display.\n",
              " * @return {!Iterable<!Object>} Iterable of next steps.\n",
              " */\n",
              "function* uploadFilesStep(inputId, outputId) {\n",
              "  const inputElement = document.getElementById(inputId);\n",
              "  inputElement.disabled = false;\n",
              "\n",
              "  const outputElement = document.getElementById(outputId);\n",
              "  outputElement.innerHTML = '';\n",
              "\n",
              "  const pickedPromise = new Promise((resolve) => {\n",
              "    inputElement.addEventListener('change', (e) => {\n",
              "      resolve(e.target.files);\n",
              "    });\n",
              "  });\n",
              "\n",
              "  const cancel = document.createElement('button');\n",
              "  inputElement.parentElement.appendChild(cancel);\n",
              "  cancel.textContent = 'Cancel upload';\n",
              "  const cancelPromise = new Promise((resolve) => {\n",
              "    cancel.onclick = () => {\n",
              "      resolve(null);\n",
              "    };\n",
              "  });\n",
              "\n",
              "  // Wait for the user to pick the files.\n",
              "  const files = yield {\n",
              "    promise: Promise.race([pickedPromise, cancelPromise]),\n",
              "    response: {\n",
              "      action: 'starting',\n",
              "    }\n",
              "  };\n",
              "\n",
              "  cancel.remove();\n",
              "\n",
              "  // Disable the input element since further picks are not allowed.\n",
              "  inputElement.disabled = true;\n",
              "\n",
              "  if (!files) {\n",
              "    return {\n",
              "      response: {\n",
              "        action: 'complete',\n",
              "      }\n",
              "    };\n",
              "  }\n",
              "\n",
              "  for (const file of files) {\n",
              "    const li = document.createElement('li');\n",
              "    li.append(span(file.name, {fontWeight: 'bold'}));\n",
              "    li.append(span(\n",
              "        `(${file.type || 'n/a'}) - ${file.size} bytes, ` +\n",
              "        `last modified: ${\n",
              "            file.lastModifiedDate ? file.lastModifiedDate.toLocaleDateString() :\n",
              "                                    'n/a'} - `));\n",
              "    const percent = span('0% done');\n",
              "    li.appendChild(percent);\n",
              "\n",
              "    outputElement.appendChild(li);\n",
              "\n",
              "    const fileDataPromise = new Promise((resolve) => {\n",
              "      const reader = new FileReader();\n",
              "      reader.onload = (e) => {\n",
              "        resolve(e.target.result);\n",
              "      };\n",
              "      reader.readAsArrayBuffer(file);\n",
              "    });\n",
              "    // Wait for the data to be ready.\n",
              "    let fileData = yield {\n",
              "      promise: fileDataPromise,\n",
              "      response: {\n",
              "        action: 'continue',\n",
              "      }\n",
              "    };\n",
              "\n",
              "    // Use a chunked sending to avoid message size limits. See b/62115660.\n",
              "    let position = 0;\n",
              "    do {\n",
              "      const length = Math.min(fileData.byteLength - position, MAX_PAYLOAD_SIZE);\n",
              "      const chunk = new Uint8Array(fileData, position, length);\n",
              "      position += length;\n",
              "\n",
              "      const base64 = btoa(String.fromCharCode.apply(null, chunk));\n",
              "      yield {\n",
              "        response: {\n",
              "          action: 'append',\n",
              "          file: file.name,\n",
              "          data: base64,\n",
              "        },\n",
              "      };\n",
              "\n",
              "      let percentDone = fileData.byteLength === 0 ?\n",
              "          100 :\n",
              "          Math.round((position / fileData.byteLength) * 100);\n",
              "      percent.textContent = `${percentDone}% done`;\n",
              "\n",
              "    } while (position < fileData.byteLength);\n",
              "  }\n",
              "\n",
              "  // All done.\n",
              "  yield {\n",
              "    response: {\n",
              "      action: 'complete',\n",
              "    }\n",
              "  };\n",
              "}\n",
              "\n",
              "scope.google = scope.google || {};\n",
              "scope.google.colab = scope.google.colab || {};\n",
              "scope.google.colab._files = {\n",
              "  _uploadFiles,\n",
              "  _uploadFilesContinue,\n",
              "};\n",
              "})(self);\n",
              "</script> "
            ]
          },
          "metadata": {}
        },
        {
          "output_type": "stream",
          "name": "stdout",
          "text": [
            "Saving data.csv to data.csv\n"
          ]
        }
      ]
    },
    {
      "cell_type": "markdown",
      "source": [
        "***Load Dataset***"
      ],
      "metadata": {
        "id": "ESTZxOODz1tG"
      }
    },
    {
      "cell_type": "code",
      "source": [
        "dataset = pd.read_csv('data.csv')"
      ],
      "metadata": {
        "id": "VSHElmX8z7GZ"
      },
      "execution_count": 3,
      "outputs": []
    },
    {
      "cell_type": "markdown",
      "source": [
        "***Load Summarize***"
      ],
      "metadata": {
        "id": "Q0uyoJ7M0Dsa"
      }
    },
    {
      "cell_type": "code",
      "source": [
        "print(dataset.shape)\n",
        "print(dataset.head(5))"
      ],
      "metadata": {
        "colab": {
          "base_uri": "https://localhost:8080/"
        },
        "id": "AwUYBL8w0gdg",
        "outputId": "ec69b412-e91b-4b4a-e9f7-5ceddf0615dd"
      },
      "execution_count": 4,
      "outputs": [
        {
          "output_type": "stream",
          "name": "stdout",
          "text": [
            "(100, 4)\n",
            "   hours  age  internet   marks\n",
            "0  4.508   15         1  19.202\n",
            "1  0.096   16         0   7.734\n",
            "2  3.133   17         1  13.811\n",
            "3  7.909   18         0  53.018\n",
            "4    NaN   19         0  55.299\n"
          ]
        }
      ]
    },
    {
      "cell_type": "markdown",
      "source": [
        "***Finding and Removing NA values from our Features X***"
      ],
      "metadata": {
        "id": "No-Gnf5S0qcY"
      }
    },
    {
      "cell_type": "code",
      "source": [
        "dataset.columns[dataset.isna().any()]"
      ],
      "metadata": {
        "colab": {
          "base_uri": "https://localhost:8080/"
        },
        "id": "gIGMv9ug053v",
        "outputId": "8e40816f-8a63-4373-a9fc-9c4d675b3a83"
      },
      "execution_count": 5,
      "outputs": [
        {
          "output_type": "execute_result",
          "data": {
            "text/plain": [
              "Index(['hours'], dtype='object')"
            ]
          },
          "metadata": {},
          "execution_count": 5
        }
      ]
    },
    {
      "cell_type": "code",
      "source": [
        "dataset.hours = dataset.hours.fillna(dataset.hours.mean())"
      ],
      "metadata": {
        "id": "hqokBzmW1F_R"
      },
      "execution_count": 6,
      "outputs": []
    },
    {
      "cell_type": "markdown",
      "source": [
        "***Segregate dataset into input X and output Y***"
      ],
      "metadata": {
        "id": "hcF5HfnE1Vml"
      }
    },
    {
      "cell_type": "code",
      "source": [
        "X = dataset.iloc[:, :-1].values\n",
        "print(X.shape)\n",
        "X"
      ],
      "metadata": {
        "colab": {
          "base_uri": "https://localhost:8080/"
        },
        "id": "Jz4SfG7G13nl",
        "outputId": "4999d259-72df-4c52-9a10-db4ea03a2edf"
      },
      "execution_count": 7,
      "outputs": [
        {
          "output_type": "stream",
          "name": "stdout",
          "text": [
            "(100, 3)\n"
          ]
        },
        {
          "output_type": "execute_result",
          "data": {
            "text/plain": [
              "array([[ 4.508    , 15.       ,  1.       ],\n",
              "       [ 0.096    , 16.       ,  0.       ],\n",
              "       [ 3.133    , 17.       ,  1.       ],\n",
              "       [ 7.909    , 18.       ,  0.       ],\n",
              "       [ 4.1111236, 19.       ,  0.       ],\n",
              "       [ 3.211    , 20.       ,  0.       ],\n",
              "       [ 6.063    , 15.       ,  1.       ],\n",
              "       [ 3.413    , 16.       ,  0.       ],\n",
              "       [ 4.41     , 19.       ,  1.       ],\n",
              "       [ 6.173    , 16.       ,  1.       ],\n",
              "       [ 7.353    , 19.       ,  0.       ],\n",
              "       [ 0.423    , 16.       ,  1.       ],\n",
              "       [ 4.1111236, 17.       ,  1.       ],\n",
              "       [ 4.274    , 18.       ,  0.       ],\n",
              "       [ 4.1111236, 19.       ,  1.       ],\n",
              "       [ 4.26     , 20.       ,  1.       ],\n",
              "       [ 5.719    , 21.       ,  0.       ],\n",
              "       [ 6.08     , 15.       ,  1.       ],\n",
              "       [ 7.711    , 18.       ,  0.       ],\n",
              "       [ 3.977    , 16.       ,  0.       ],\n",
              "       [ 4.733    , 19.       ,  0.       ],\n",
              "       [ 6.126    , 16.       ,  1.       ],\n",
              "       [ 4.1111236, 17.       ,  1.       ],\n",
              "       [ 4.875    , 16.       ,  1.       ],\n",
              "       [ 3.635    , 19.       ,  1.       ],\n",
              "       [ 1.407    , 15.       ,  1.       ],\n",
              "       [ 0.508    , 16.       ,  1.       ],\n",
              "       [ 4.378    , 17.       ,  1.       ],\n",
              "       [ 0.156    , 18.       ,  1.       ],\n",
              "       [ 1.299    , 19.       ,  1.       ],\n",
              "       [ 3.864    , 20.       ,  1.       ],\n",
              "       [ 4.1111236, 20.       ,  0.       ],\n",
              "       [ 0.932    , 19.       ,  1.       ],\n",
              "       [ 6.594    , 18.       ,  0.       ],\n",
              "       [ 4.083    , 17.       ,  0.       ],\n",
              "       [ 7.543    , 16.       ,  0.       ],\n",
              "       [ 2.966    , 15.       ,  1.       ],\n",
              "       [ 7.283    , 14.       ,  1.       ],\n",
              "       [ 6.533    , 18.       ,  1.       ],\n",
              "       [ 7.775    , 19.       ,  1.       ],\n",
              "       [ 0.14     , 15.       ,  0.       ],\n",
              "       [ 2.754    , 17.       ,  1.       ],\n",
              "       [ 4.1111236, 17.       ,  1.       ],\n",
              "       [ 1.557    , 16.       ,  0.       ],\n",
              "       [ 1.954    , 19.       ,  1.       ],\n",
              "       [ 2.061    , 17.       ,  1.       ],\n",
              "       [ 3.797    , 17.       ,  1.       ],\n",
              "       [ 4.779    , 16.       ,  0.       ],\n",
              "       [ 5.635    , 17.       ,  1.       ],\n",
              "       [ 3.913    , 17.       ,  1.       ],\n",
              "       [ 4.1111236, 19.       ,  1.       ],\n",
              "       [ 4.13     , 19.       ,  0.       ],\n",
              "       [ 0.771    , 19.       ,  0.       ],\n",
              "       [ 6.049    , 17.       ,  0.       ],\n",
              "       [ 7.591    , 17.       ,  1.       ],\n",
              "       [ 2.913    , 20.       ,  1.       ],\n",
              "       [ 7.641    , 20.       ,  0.       ],\n",
              "       [ 7.649    , 17.       ,  1.       ],\n",
              "       [ 6.198    , 16.       ,  0.       ],\n",
              "       [ 7.468    , 16.       ,  0.       ],\n",
              "       [ 0.376    , 16.       ,  1.       ],\n",
              "       [ 4.1111236, 17.       ,  1.       ],\n",
              "       [ 3.606    , 18.       ,  0.       ],\n",
              "       [ 4.869    , 18.       ,  1.       ],\n",
              "       [ 0.13     , 18.       ,  0.       ],\n",
              "       [ 2.142    , 18.       ,  1.       ],\n",
              "       [ 5.473    , 18.       ,  0.       ],\n",
              "       [ 0.55     , 18.       ,  1.       ],\n",
              "       [ 1.395    , 18.       ,  0.       ],\n",
              "       [ 3.948    , 17.       ,  0.       ],\n",
              "       [ 3.736    , 20.       ,  1.       ],\n",
              "       [ 2.518    , 20.       ,  1.       ],\n",
              "       [ 4.1111236, 20.       ,  0.       ],\n",
              "       [ 4.1111236, 20.       ,  1.       ],\n",
              "       [ 6.954    , 17.       ,  1.       ],\n",
              "       [ 0.803    , 15.       ,  1.       ],\n",
              "       [ 6.379    , 15.       ,  1.       ],\n",
              "       [ 5.985    , 17.       ,  0.       ],\n",
              "       [ 7.451    , 17.       ,  1.       ],\n",
              "       [ 0.805    , 16.       ,  1.       ],\n",
              "       [ 7.957    , 16.       ,  1.       ],\n",
              "       [ 2.262    , 16.       ,  1.       ],\n",
              "       [ 7.41     , 16.       ,  0.       ],\n",
              "       [ 3.197    , 16.       ,  1.       ],\n",
              "       [ 1.982    , 17.       ,  0.       ],\n",
              "       [ 6.201    , 16.       ,  1.       ],\n",
              "       [ 4.067    , 17.       ,  1.       ],\n",
              "       [ 1.033    , 19.       ,  0.       ],\n",
              "       [ 1.803    , 19.       ,  0.       ],\n",
              "       [ 6.376    , 19.       ,  0.       ],\n",
              "       [ 4.182    , 19.       ,  0.       ],\n",
              "       [ 2.73     , 17.       ,  0.       ],\n",
              "       [ 5.027    , 20.       ,  1.       ],\n",
              "       [ 6.471    , 17.       ,  0.       ],\n",
              "       [ 4.1111236, 18.       ,  0.       ],\n",
              "       [ 3.561    , 18.       ,  1.       ],\n",
              "       [ 0.301    , 18.       ,  1.       ],\n",
              "       [ 7.163    , 17.       ,  1.       ],\n",
              "       [ 0.309    , 17.       ,  0.       ],\n",
              "       [ 6.335    , 17.       ,  0.       ]])"
            ]
          },
          "metadata": {},
          "execution_count": 7
        }
      ]
    },
    {
      "cell_type": "code",
      "source": [
        "Y = dataset.iloc[:, -1].values\n",
        "Y"
      ],
      "metadata": {
        "colab": {
          "base_uri": "https://localhost:8080/"
        },
        "id": "q6VCiCEV9RM9",
        "outputId": "c28527d1-28a9-487a-bcf3-0ab5ab3edf50"
      },
      "execution_count": 8,
      "outputs": [
        {
          "output_type": "execute_result",
          "data": {
            "text/plain": [
              "array([19.202,  7.734, 13.811, 53.018, 55.299, 17.822, 29.889, 17.264,\n",
              "       20.348, 30.862, 42.036, 12.132, 24.318, 17.672, 11.397, 19.466,\n",
              "       30.548, 38.49 , 50.986, 25.133, 22.073, 35.939, 12.209, 28.043,\n",
              "       16.517,  6.623, 12.647, 26.532,  9.333,  8.837, 24.172,  8.1  ,\n",
              "       15.038, 39.965, 17.171, 43.978, 13.119, 46.453, 41.358, 51.142,\n",
              "        7.336, 15.725, 19.771, 10.429,  9.742,  8.924, 16.703, 22.701,\n",
              "       26.882, 19.106, 40.602, 22.184,  7.892, 36.653, 53.158, 18.238,\n",
              "       53.359, 51.583, 31.236, 51.343, 10.522, 10.844, 19.59 , 21.379,\n",
              "       12.591, 13.562, 27.569,  6.185,  8.92 , 21.4  , 16.606, 13.416,\n",
              "       20.398,  7.014, 39.952,  6.217, 36.746, 38.278, 49.544,  6.349,\n",
              "       54.321, 17.705, 44.099, 16.106, 16.461, 39.957, 23.149,  6.053,\n",
              "       11.253, 40.024, 24.394, 19.564, 23.916, 42.426, 24.451, 19.128,\n",
              "        5.609, 41.444, 12.027, 32.357])"
            ]
          },
          "metadata": {},
          "execution_count": 8
        }
      ]
    },
    {
      "cell_type": "markdown",
      "source": [
        "***Training Dataset using Linear Regression***"
      ],
      "metadata": {
        "id": "FsJRUjV39a35"
      }
    },
    {
      "cell_type": "code",
      "source": [
        "model = LinearRegression()\n",
        "model.fit(X,Y)"
      ],
      "metadata": {
        "colab": {
          "base_uri": "https://localhost:8080/"
        },
        "id": "mSbegXnr9fpU",
        "outputId": "5e7c488b-9f95-4ccf-a6e7-5becd0c15907"
      },
      "execution_count": 9,
      "outputs": [
        {
          "output_type": "execute_result",
          "data": {
            "text/plain": [
              "LinearRegression()"
            ]
          },
          "metadata": {},
          "execution_count": 9
        }
      ]
    },
    {
      "cell_type": "markdown",
      "source": [
        "***Predict Marks***"
      ],
      "metadata": {
        "id": "7odYDrOZ92Q5"
      }
    },
    {
      "cell_type": "code",
      "source": [
        "a=[[10.2,18,1]]\n",
        "PredictedmodelResult = model.predict(a)\n",
        "print(PredictedmodelResult)"
      ],
      "metadata": {
        "colab": {
          "base_uri": "https://localhost:8080/"
        },
        "id": "_T3vQMe394k_",
        "outputId": "a01ec10a-34a4-4ac0-929e-40a576af75c9"
      },
      "execution_count": 10,
      "outputs": [
        {
          "output_type": "stream",
          "name": "stdout",
          "text": [
            "[56.83972762]\n"
          ]
        }
      ]
    }
  ]
}