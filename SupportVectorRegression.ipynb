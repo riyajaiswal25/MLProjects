{
  "nbformat": 4,
  "nbformat_minor": 0,
  "metadata": {
    "colab": {
      "provenance": [],
      "authorship_tag": "ABX9TyPW6k4685/0Ck4Rl4Df7KjZ",
      "include_colab_link": true
    },
    "kernelspec": {
      "name": "python3",
      "display_name": "Python 3"
    },
    "language_info": {
      "name": "python"
    }
  },
  "cells": [
    {
      "cell_type": "markdown",
      "metadata": {
        "id": "view-in-github",
        "colab_type": "text"
      },
      "source": [
        "<a href=\"https://colab.research.google.com/github/riyajaiswal25/MLProjects/blob/main/SupportVectorRegression.ipynb\" target=\"_parent\"><img src=\"https://colab.research.google.com/assets/colab-badge.svg\" alt=\"Open In Colab\"/></a>"
      ]
    },
    {
      "cell_type": "markdown",
      "source": [
        "# **Support Vector Regression**"
      ],
      "metadata": {
        "id": "NmxxzlXPDTYv"
      }
    },
    {
      "cell_type": "markdown",
      "source": [
        "***Importing the Libraries***"
      ],
      "metadata": {
        "id": "qGyDcYHXDjGh"
      }
    },
    {
      "cell_type": "code",
      "execution_count": 1,
      "metadata": {
        "id": "mHQibDKxAKST"
      },
      "outputs": [],
      "source": [
        "import numpy as np\n",
        "import matplotlib.pyplot as plt\n",
        "import pandas as pd"
      ]
    },
    {
      "cell_type": "markdown",
      "source": [
        "***Importing the dataset***"
      ],
      "metadata": {
        "id": "DQzvlSfFDvi9"
      }
    },
    {
      "cell_type": "code",
      "source": [
        "dataset = pd.read_csv('Stock.csv')"
      ],
      "metadata": {
        "id": "-7HbuQyTDz5n"
      },
      "execution_count": 2,
      "outputs": []
    },
    {
      "cell_type": "markdown",
      "source": [
        "***Splitting input X and output Y***"
      ],
      "metadata": {
        "id": "7z6vUjlaEFA0"
      }
    },
    {
      "cell_type": "code",
      "source": [
        "X = dataset.iloc[:, :-1].values\n",
        "y = dataset.iloc[:, -1].values"
      ],
      "metadata": {
        "id": "ZnvsunNFELhX"
      },
      "execution_count": 3,
      "outputs": []
    },
    {
      "cell_type": "code",
      "source": [
        "y = y.reshape(len(y),1)"
      ],
      "metadata": {
        "id": "au9uj2apEWHA"
      },
      "execution_count": 4,
      "outputs": []
    },
    {
      "cell_type": "code",
      "source": [
        "print(y)"
      ],
      "metadata": {
        "colab": {
          "base_uri": "https://localhost:8080/"
        },
        "id": "1NScP3YDEewM",
        "outputId": "6ef46594-f434-414e-d17b-49aeab23bc38"
      },
      "execution_count": 5,
      "outputs": [
        {
          "output_type": "stream",
          "name": "stdout",
          "text": [
            "[[10062.83]\n",
            " [ 7407.06]\n",
            " [ 3815.79]\n",
            " ...\n",
            " [ 4978.8 ]\n",
            " [ 3204.49]\n",
            " [ 2688.94]]\n"
          ]
        }
      ]
    },
    {
      "cell_type": "markdown",
      "source": [
        "***Splitting the dataset into the Training set and Test set***"
      ],
      "metadata": {
        "id": "QQ6EF6N1EjTX"
      }
    },
    {
      "cell_type": "code",
      "source": [
        "from sklearn.model_selection import train_test_split\n",
        "X_train, X_test, y_train, y_test = train_test_split(X, y, test_size = 0.2, random_state = 0)"
      ],
      "metadata": {
        "id": "GpcXN01_EqrK"
      },
      "execution_count": 6,
      "outputs": []
    },
    {
      "cell_type": "markdown",
      "source": [
        "***Feature Scaling***"
      ],
      "metadata": {
        "id": "pwgXQxKSFBJW"
      }
    },
    {
      "cell_type": "code",
      "source": [
        "from sklearn.preprocessing import StandardScaler\n",
        "sc_X = StandardScaler()\n",
        "sc_y = StandardScaler()\n",
        "X_train = sc_X.fit_transform(X_train)\n",
        "y_train = sc_y.fit_transform(y_train)"
      ],
      "metadata": {
        "id": "27kwi0GUFEHm"
      },
      "execution_count": 7,
      "outputs": []
    },
    {
      "cell_type": "markdown",
      "source": [
        "***Training the SVR model on the Training set***"
      ],
      "metadata": {
        "id": "ReuAIwWpFbeW"
      }
    },
    {
      "cell_type": "code",
      "source": [
        "from sklearn.svm import SVR\n",
        "regressor = SVR(kernel = 'rbf')\n",
        "regressor.fit(X_train, y_train)"
      ],
      "metadata": {
        "colab": {
          "base_uri": "https://localhost:8080/"
        },
        "id": "xJlsrNnpFg51",
        "outputId": "c300c044-8e5a-4899-bcb7-58eaa0b196a0"
      },
      "execution_count": 8,
      "outputs": [
        {
          "output_type": "stream",
          "name": "stderr",
          "text": [
            "/usr/local/lib/python3.7/dist-packages/sklearn/utils/validation.py:993: DataConversionWarning: A column-vector y was passed when a 1d array was expected. Please change the shape of y to (n_samples, ), for example using ravel().\n",
            "  y = column_or_1d(y, warn=True)\n"
          ]
        },
        {
          "output_type": "execute_result",
          "data": {
            "text/plain": [
              "SVR()"
            ]
          },
          "metadata": {},
          "execution_count": 8
        }
      ]
    },
    {
      "cell_type": "markdown",
      "source": [
        "***Predicting the Test set results***"
      ],
      "metadata": {
        "id": "L86YK2xYH-gH"
      }
    },
    {
      "cell_type": "code",
      "source": [
        "y_pred = sc_y.inverse_transform(regressor.predict(sc_X.transform(X_test)))\n",
        "np.set_printoptions(precision=2)\n",
        "print(np.concatenate((y_pred.reshape(len(y_pred),1), y_test.reshape(len(y_test),1))))"
      ],
      "metadata": {
        "colab": {
          "base_uri": "https://localhost:8080/",
          "height": 1000
        },
        "id": "MleNI07AIChG",
        "outputId": "ff7c9b6d-32ea-47fa-9b55-1a9f1b4275cc"
      },
      "execution_count": 12,
      "outputs": [
        {
          "output_type": "error",
          "ename": "ValueError",
          "evalue": "ignored",
          "traceback": [
            "\u001b[0;31m---------------------------------------------------------------------------\u001b[0m",
            "\u001b[0;31mValueError\u001b[0m                                Traceback (most recent call last)",
            "\u001b[0;32m<ipython-input-12-8a75c1548bf0>\u001b[0m in \u001b[0;36m<module>\u001b[0;34m\u001b[0m\n\u001b[0;32m----> 1\u001b[0;31m \u001b[0my_pred\u001b[0m \u001b[0;34m=\u001b[0m \u001b[0msc_y\u001b[0m\u001b[0;34m.\u001b[0m\u001b[0minverse_transform\u001b[0m\u001b[0;34m(\u001b[0m\u001b[0mregressor\u001b[0m\u001b[0;34m.\u001b[0m\u001b[0mpredict\u001b[0m\u001b[0;34m(\u001b[0m\u001b[0msc_X\u001b[0m\u001b[0;34m.\u001b[0m\u001b[0mtransform\u001b[0m\u001b[0;34m(\u001b[0m\u001b[0mX_test\u001b[0m\u001b[0;34m)\u001b[0m\u001b[0;34m)\u001b[0m\u001b[0;34m)\u001b[0m\u001b[0;34m\u001b[0m\u001b[0;34m\u001b[0m\u001b[0m\n\u001b[0m\u001b[1;32m      2\u001b[0m \u001b[0mnp\u001b[0m\u001b[0;34m.\u001b[0m\u001b[0mset_printoptions\u001b[0m\u001b[0;34m(\u001b[0m\u001b[0mprecision\u001b[0m\u001b[0;34m=\u001b[0m\u001b[0;36m2\u001b[0m\u001b[0;34m)\u001b[0m\u001b[0;34m\u001b[0m\u001b[0;34m\u001b[0m\u001b[0m\n\u001b[1;32m      3\u001b[0m \u001b[0mprint\u001b[0m\u001b[0;34m(\u001b[0m\u001b[0mnp\u001b[0m\u001b[0;34m.\u001b[0m\u001b[0mconcatenate\u001b[0m\u001b[0;34m(\u001b[0m\u001b[0;34m(\u001b[0m\u001b[0my_pred\u001b[0m\u001b[0;34m.\u001b[0m\u001b[0mreshape\u001b[0m\u001b[0;34m(\u001b[0m\u001b[0mlen\u001b[0m\u001b[0;34m(\u001b[0m\u001b[0my_pred\u001b[0m\u001b[0;34m)\u001b[0m\u001b[0;34m,\u001b[0m\u001b[0;36m1\u001b[0m\u001b[0;34m)\u001b[0m\u001b[0;34m,\u001b[0m \u001b[0my_test\u001b[0m\u001b[0;34m.\u001b[0m\u001b[0mreshape\u001b[0m\u001b[0;34m(\u001b[0m\u001b[0mlen\u001b[0m\u001b[0;34m(\u001b[0m\u001b[0my_test\u001b[0m\u001b[0;34m)\u001b[0m\u001b[0;34m,\u001b[0m\u001b[0;36m1\u001b[0m\u001b[0;34m)\u001b[0m\u001b[0;34m)\u001b[0m\u001b[0;34m)\u001b[0m\u001b[0;34m)\u001b[0m\u001b[0;34m\u001b[0m\u001b[0;34m\u001b[0m\u001b[0m\n",
            "\u001b[0;32m/usr/local/lib/python3.7/dist-packages/sklearn/preprocessing/_data.py\u001b[0m in \u001b[0;36minverse_transform\u001b[0;34m(self, X, copy)\u001b[0m\n\u001b[1;32m   1020\u001b[0m             \u001b[0mestimator\u001b[0m\u001b[0;34m=\u001b[0m\u001b[0mself\u001b[0m\u001b[0;34m,\u001b[0m\u001b[0;34m\u001b[0m\u001b[0;34m\u001b[0m\u001b[0m\n\u001b[1;32m   1021\u001b[0m             \u001b[0mdtype\u001b[0m\u001b[0;34m=\u001b[0m\u001b[0mFLOAT_DTYPES\u001b[0m\u001b[0;34m,\u001b[0m\u001b[0;34m\u001b[0m\u001b[0;34m\u001b[0m\u001b[0m\n\u001b[0;32m-> 1022\u001b[0;31m             \u001b[0mforce_all_finite\u001b[0m\u001b[0;34m=\u001b[0m\u001b[0;34m\"allow-nan\"\u001b[0m\u001b[0;34m,\u001b[0m\u001b[0;34m\u001b[0m\u001b[0;34m\u001b[0m\u001b[0m\n\u001b[0m\u001b[1;32m   1023\u001b[0m         )\n\u001b[1;32m   1024\u001b[0m \u001b[0;34m\u001b[0m\u001b[0m\n",
            "\u001b[0;32m/usr/local/lib/python3.7/dist-packages/sklearn/utils/validation.py\u001b[0m in \u001b[0;36mcheck_array\u001b[0;34m(array, accept_sparse, accept_large_sparse, dtype, order, copy, force_all_finite, ensure_2d, allow_nd, ensure_min_samples, ensure_min_features, estimator)\u001b[0m\n\u001b[1;32m    771\u001b[0m                     \u001b[0;34m\"Reshape your data either using array.reshape(-1, 1) if \"\u001b[0m\u001b[0;34m\u001b[0m\u001b[0;34m\u001b[0m\u001b[0m\n\u001b[1;32m    772\u001b[0m                     \u001b[0;34m\"your data has a single feature or array.reshape(1, -1) \"\u001b[0m\u001b[0;34m\u001b[0m\u001b[0;34m\u001b[0m\u001b[0m\n\u001b[0;32m--> 773\u001b[0;31m                     \u001b[0;34m\"if it contains a single sample.\"\u001b[0m\u001b[0;34m.\u001b[0m\u001b[0mformat\u001b[0m\u001b[0;34m(\u001b[0m\u001b[0marray\u001b[0m\u001b[0;34m)\u001b[0m\u001b[0;34m\u001b[0m\u001b[0;34m\u001b[0m\u001b[0m\n\u001b[0m\u001b[1;32m    774\u001b[0m                 )\n\u001b[1;32m    775\u001b[0m \u001b[0;34m\u001b[0m\u001b[0m\n",
            "\u001b[0;31mValueError\u001b[0m: Expected 2D array, got 1D array instead:\narray=[ 0.17554015 -0.57334175 -0.34494089 -0.65313814 -0.23852322 -0.31566353\n -0.1754444  -0.70317596 -0.6354444   1.10102798  4.09287369 -0.41892307\n -0.53288052 -0.36798327  0.0697639   0.06553624 -0.34475484  0.69277485\n  0.75452563 -0.20036457 -0.36219531 -0.60035449 -0.71815336 -0.35592076\n  0.49233014 -0.66474755 -0.60599211 -0.54802251 -0.72044686 -0.59989033\n -0.14750825 -0.43788326  2.32429217  0.21556866 -0.33677754 -0.42429111\n -0.04814832  0.08872812 -0.55555519 -0.61812385 -0.6106067  -0.30002933\n  0.51592706 -0.33365774 -0.71510335 -0.50112883 -0.47950495  0.62313743\n  0.07902293 -0.67864214 -0.31073067 -0.1383066  -0.14906674 -0.62063993\n -0.3622371  -0.67610702  0.4354388  -0.7090825  -0.55225    -0.72312949\n -0.31013212  0.19870173 -0.09999169 -0.66448765 -0.41532065 -0.20485968\n  0.04340756  1.51011503 -0.42473787 -0.35044526  0.12413734  0.77164166\n -0.60708857 -0.70128753 -0.5207498   2.19284118 -0.61864583  0.57985269\n  1.86407923 -0.18155745  0.14971441 -0.05924054  0.99820082  4.7448705\n  1.02167563 -0.17754188 -0.19830877 -0.58693916 -0.60185317 -0.41355258\n  1.22419242 -0.71946238 -0.08754895 -0.46382223 -0.30623103 -0.36326525\n -0.26186832  0.1616099   0.13528586 -0.46984072 -0.52433823 -0.37356197\n -0.41629542 -0.46346282 -0.69446456  0.08131029 -0.02878969 -0.4617431\n -0.34849404  0.66371164 -0.69976066 -0.3028755  -0.53500525  0.01627607\n -0.34034902  0.54381337 -0.71093267  0.22773674 -0.55129361  1.19557635\n  0.31759493 -0.17853631  0.02289673 -0.03593537 -0.70178539 -0.18550576\n -0.42258227 -0.59101221 -0.72236466 -0.6132606  -0.5868517  -0.68360914\n -0.69244527 -0.66731467 -0.58012042 -0.47482214 -0.62815778  0.02858048\n  0.68673933  1.82537355 -0.35692697 -0.19749549 -0.30477097  0.38947949\n  0.99666906 -0.69937319 -0.58017402  0.66033463 -0.6727027   0.21071011\n -0.50440888 -0.32691666 -0.72142593 -0.2510913  -0.05211595 -0.30835718\n -0.66090763 -0.3378403  -0.34280898 -0.5884912  -0.72260441  5.3090876\n  2.2565736  -0.2593961  -0.56385072 -0.05535243  0.65142163  2.34493643\n -0.33847784 -0.32357205 -0.3886333  -0.55642104  0.04365482 -0.70471208\n  5.26600689  1.56594351 -0.709929   -0.69524081 -0.70809521 -0.68626738\n -0.32534286  1.44579458 -0.38773626 -0.41596658  0.04975213 -0.71490646\n -0.20238972  0.71080825 -0.04383652 -0.18111723 -0.72081854 -0.19575726\n -0.68919782 -0.22694145 -0.65076298 -0.22073706  0.07586059  0.59021011\n -0.48894093 -0.71416604  0.27855326  0.28211453  0.67108837 -0.69590483\n -0.51209771  0.11344407 -0.30142019 -0.66860613 -0.1648045  -0.52019471\n  0.27597058 -0.51335529 -0.70009463 -0.22201836 -0.50972363 -0.29435678\n -0.67735212 -0.42125447  0.16773253 -0.60052283 -0.40683904 -0.35746206\n -0.71965575  0.46785324 -0.26199028 -0.72085814 -0.31039984  0.96267356\n -0.68294123 -0.27827015 -0.37758089  0.14219197 -0.55992396 -0.46377209\n -0.40900164 -0.41569481  1.70287788 -0.68382583 -0.14291875 -0.57688041\n -0.14140534 -0.49641064 -0.28867904 -0.27589696 -0.70160264 -0.35666091\n -0.66930674].\nReshape your data either using array.reshape(-1, 1) if your data has a single feature or array.reshape(1, -1) if it contains a single sample."
          ]
        }
      ]
    },
    {
      "cell_type": "markdown",
      "source": [
        "***Evaluating Model Performance***"
      ],
      "metadata": {
        "id": "De4c9XLEHsE6"
      }
    },
    {
      "cell_type": "code",
      "source": [
        "from sklearn.metrics import r2_score\n",
        "r2_score(y_test, y_pred)"
      ],
      "metadata": {
        "colab": {
          "base_uri": "https://localhost:8080/",
          "height": 183
        },
        "id": "kJPpoaHDHvqO",
        "outputId": "c6c3fbbc-a43d-4bd0-fafc-22273745dec2"
      },
      "execution_count": 13,
      "outputs": [
        {
          "output_type": "error",
          "ename": "NameError",
          "evalue": "ignored",
          "traceback": [
            "\u001b[0;31m---------------------------------------------------------------------------\u001b[0m",
            "\u001b[0;31mNameError\u001b[0m                                 Traceback (most recent call last)",
            "\u001b[0;32m<ipython-input-13-7fcfd38683ff>\u001b[0m in \u001b[0;36m<module>\u001b[0;34m\u001b[0m\n\u001b[1;32m      1\u001b[0m \u001b[0;32mfrom\u001b[0m \u001b[0msklearn\u001b[0m\u001b[0;34m.\u001b[0m\u001b[0mmetrics\u001b[0m \u001b[0;32mimport\u001b[0m \u001b[0mr2_score\u001b[0m\u001b[0;34m\u001b[0m\u001b[0;34m\u001b[0m\u001b[0m\n\u001b[0;32m----> 2\u001b[0;31m \u001b[0mr2_score\u001b[0m\u001b[0;34m(\u001b[0m\u001b[0my_test\u001b[0m\u001b[0;34m,\u001b[0m \u001b[0my_pred\u001b[0m\u001b[0;34m)\u001b[0m\u001b[0;34m\u001b[0m\u001b[0;34m\u001b[0m\u001b[0m\n\u001b[0m",
            "\u001b[0;31mNameError\u001b[0m: name 'y_pred' is not defined"
          ]
        }
      ]
    }
  ]
}