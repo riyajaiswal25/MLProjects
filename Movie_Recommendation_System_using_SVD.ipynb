{
  "nbformat": 4,
  "nbformat_minor": 0,
  "metadata": {
    "colab": {
      "provenance": [],
      "authorship_tag": "ABX9TyO0akY6kQnPkRakIYv12FAp",
      "include_colab_link": true
    },
    "kernelspec": {
      "name": "python3",
      "display_name": "Python 3"
    },
    "language_info": {
      "name": "python"
    }
  },
  "cells": [
    {
      "cell_type": "markdown",
      "metadata": {
        "id": "view-in-github",
        "colab_type": "text"
      },
      "source": [
        "<a href=\"https://colab.research.google.com/github/riyajaiswal25/MLProjects/blob/main/Movie_Recommendation_System_using_SVD.ipynb\" target=\"_parent\"><img src=\"https://colab.research.google.com/assets/colab-badge.svg\" alt=\"Open In Colab\"/></a>"
      ]
    },
    {
      "cell_type": "markdown",
      "source": [
        "# **Movie Recommendation System Using SVD**"
      ],
      "metadata": {
        "id": "PtR8_DdLDNPj"
      }
    },
    {
      "cell_type": "markdown",
      "source": [
        "***Importing the basic libraries***"
      ],
      "metadata": {
        "id": "J0rl78UMDVgf"
      }
    },
    {
      "cell_type": "code",
      "execution_count": 2,
      "metadata": {
        "id": "KyhKSkC6DFVN"
      },
      "outputs": [],
      "source": [
        "import numpy as np\n",
        "import pandas as pd\n"
      ]
    },
    {
      "cell_type": "markdown",
      "source": [
        "***Importing & Parsing the dataset as ratings and movies details***"
      ],
      "metadata": {
        "id": "QgT6kmkUDe_W"
      }
    },
    {
      "cell_type": "code",
      "source": [
        "ratingData = pd.io.parsers.read_csv('ratings.dat',names=['user_id','movie_id','rating','time'], engine='python', delimiter=',')\n",
        "movieData = pd.io.parsers.read_csv('movies.dat',names=['movie_id','title','genre'], engine='python', delimiter=',')\n",
        "print(ratingData)"
      ],
      "metadata": {
        "colab": {
          "base_uri": "https://localhost:8080/"
        },
        "id": "dFZUJtrWDl9d",
        "outputId": "83fc41a6-4697-49fa-e08e-271e438273c7"
      },
      "execution_count": 3,
      "outputs": [
        {
          "output_type": "stream",
          "name": "stdout",
          "text": [
            "        user_id  movie_id  rating        time\n",
            "0             1        31     2.5  1260759144\n",
            "1             1      1029     3.0  1260759179\n",
            "2             1      1061     3.0  1260759182\n",
            "3             1      1129     2.0  1260759185\n",
            "4             1      1172     4.0  1260759205\n",
            "...         ...       ...     ...         ...\n",
            "99999       671      6268     2.5  1065579370\n",
            "100000      671      6269     4.0  1065149201\n",
            "100001      671      6365     4.0  1070940363\n",
            "100002      671      6385     2.5  1070979663\n",
            "100003      671      6565     3.5  1074784724\n",
            "\n",
            "[100004 rows x 4 columns]\n"
          ]
        }
      ]
    },
    {
      "cell_type": "markdown",
      "source": [
        "***Create the ratings matrix of shape(mxu)***"
      ],
      "metadata": {
        "id": "dS4qR12i8ZgP"
      }
    },
    {
      "cell_type": "code",
      "source": [
        "ratingMatrix = np.ndarray(shape=(np.max(ratingData.movie_id.values),np.max(ratingData.user_id.values)),dtype=np.uint8)\n",
        "ratingMatrix[ratingData.movie_id.values-1, ratingData.user_id.values-1] = ratingData.rating.values\n",
        "print(ratingMatrix)"
      ],
      "metadata": {
        "colab": {
          "base_uri": "https://localhost:8080/"
        },
        "id": "ddncTYdF8ikR",
        "outputId": "38122e6d-e08c-40b3-9832-c5931e46229f"
      },
      "execution_count": 4,
      "outputs": [
        {
          "output_type": "stream",
          "name": "stdout",
          "text": [
            "[[240 151 243 ... 215   4   5]\n",
            " [  0  48 173 ...  51 215 127]\n",
            " [  0   0 176 ... 243  51 215]\n",
            " ...\n",
            " [  0   0   0 ...   0   0   0]\n",
            " [  0   0   0 ...   0   0   0]\n",
            " [  0   0   0 ...   0   0   0]]\n"
          ]
        }
      ]
    },
    {
      "cell_type": "markdown",
      "source": [
        "***Subtract Mean off - Normalization***"
      ],
      "metadata": {
        "id": "d90qJMDM-FCF"
      }
    },
    {
      "cell_type": "code",
      "source": [
        "normalizedMatrix = ratingMatrix - np.asarray([(np.mean(ratingMatrix, 1))]).T\n",
        "print(normalizedMatrix)"
      ],
      "metadata": {
        "colab": {
          "base_uri": "https://localhost:8080/"
        },
        "id": "fVdRsQR1-JrU",
        "outputId": "6df3f248-b0b6-4bd2-9199-3c34d6292caf"
      },
      "execution_count": 5,
      "outputs": [
        {
          "output_type": "stream",
          "name": "stdout",
          "text": [
            "[[ 1.61157973e+02  7.21579732e+01  1.64157973e+02 ...  1.36157973e+02\n",
            "  -7.48420268e+01 -7.38420268e+01]\n",
            " [-1.04283159e+02 -5.62831595e+01  6.87168405e+01 ... -5.32831595e+01\n",
            "   1.10716841e+02  2.27168405e+01]\n",
            " [-1.15372578e+02 -1.15372578e+02  6.06274218e+01 ...  1.27627422e+02\n",
            "  -6.43725782e+01  9.96274218e+01]\n",
            " ...\n",
            " [ 0.00000000e+00  0.00000000e+00  0.00000000e+00 ...  0.00000000e+00\n",
            "   0.00000000e+00  0.00000000e+00]\n",
            " [ 0.00000000e+00  0.00000000e+00  0.00000000e+00 ...  0.00000000e+00\n",
            "   0.00000000e+00  0.00000000e+00]\n",
            " [-7.45156483e-03 -7.45156483e-03 -7.45156483e-03 ... -7.45156483e-03\n",
            "  -7.45156483e-03 -7.45156483e-03]]\n"
          ]
        }
      ]
    },
    {
      "cell_type": "markdown",
      "source": [
        "***Computing SVD***"
      ],
      "metadata": {
        "id": "orUV20R6-1bn"
      }
    },
    {
      "cell_type": "code",
      "source": [
        "A = normalizedMatrix.T / np.sqrt(ratingMatrix.shape[0]-1)\n",
        "U, S, V = np.linalg.svd(A)"
      ],
      "metadata": {
        "id": "lpz2JD7A-4Mw"
      },
      "execution_count": null,
      "outputs": []
    },
    {
      "cell_type": "markdown",
      "source": [
        "***Calculating cosine similarity, sort by most similar and return the top N***"
      ],
      "metadata": {
        "id": "d9nEZ3HAAQkv"
      }
    },
    {
      "cell_type": "code",
      "source": [
        "def similar(ratingData, movie_id, top_n):\n",
        "  index = movie_id-1 #movie starts from 1\n",
        "  movie_row = ratingData[index, :]\n",
        "  magnitude = np.sqrt(np.einsum('ij','ij->i', ratingData, ratingData)) #Einstein summation | traditional matrix\n",
        "  similarity = np.dot(movie_row, ratingData.T) / (magnitude[index]*magnitude)\n",
        "  sort_indexes = np.argsort(-similarity) #Perform an indirect sort along the given axis (Last axis)\n",
        "  return sort_indexes[:top_n]\n"
      ],
      "metadata": {
        "id": "YNB2yvk9AcMH"
      },
      "execution_count": null,
      "outputs": []
    },
    {
      "cell_type": "markdown",
      "source": [
        "***Select k principal components to represent the movies, a movie_id to find recommendations and print the top_n results***"
      ],
      "metadata": {
        "id": "G9vJqDU_mexy"
      }
    },
    {
      "cell_type": "code",
      "source": [
        "k = 50\n",
        "movie_id = 23\n",
        "top_n = 10"
      ],
      "metadata": {
        "id": "8zJBnSu-muvF"
      },
      "execution_count": null,
      "outputs": []
    }
  ]
}