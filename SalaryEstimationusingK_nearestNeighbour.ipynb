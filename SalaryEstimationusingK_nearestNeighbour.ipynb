{
  "nbformat": 4,
  "nbformat_minor": 0,
  "metadata": {
    "colab": {
      "provenance": [],
      "authorship_tag": "ABX9TyPOx9YwahNcwE7RwICzcCev",
      "include_colab_link": true
    },
    "kernelspec": {
      "name": "python3",
      "display_name": "Python 3"
    },
    "language_info": {
      "name": "python"
    }
  },
  "cells": [
    {
      "cell_type": "markdown",
      "metadata": {
        "id": "view-in-github",
        "colab_type": "text"
      },
      "source": [
        "<a href=\"https://colab.research.google.com/github/riyajaiswal25/MLProjects/blob/main/SalaryEstimationusingK_nearestNeighbour.ipynb\" target=\"_parent\"><img src=\"https://colab.research.google.com/assets/colab-badge.svg\" alt=\"Open In Colab\"/></a>"
      ]
    },
    {
      "cell_type": "markdown",
      "source": [
        "***Importing Libraries***"
      ],
      "metadata": {
        "id": "tb4nA-n8hV98"
      }
    },
    {
      "cell_type": "code",
      "execution_count": 5,
      "metadata": {
        "id": "G4AlgUzbpHpT"
      },
      "outputs": [],
      "source": [
        "import pandas as pd #useful for loading the dataset\n",
        "import numpy as np #to perform array"
      ]
    },
    {
      "cell_type": "markdown",
      "source": [
        "***Choosing Dataset from Local Directory***"
      ],
      "metadata": {
        "id": "VnmbDn6Phdi7"
      }
    },
    {
      "cell_type": "code",
      "source": [
        "from google.colab import files\n",
        "uploaded = files.upload()"
      ],
      "metadata": {
        "id": "ERRZ3tkOOYFA",
        "colab": {
          "base_uri": "https://localhost:8080/",
          "height": 73
        },
        "outputId": "7edaa838-a878-422f-b5c4-7cd7418de2d9"
      },
      "execution_count": 2,
      "outputs": [
        {
          "output_type": "display_data",
          "data": {
            "text/plain": [
              "<IPython.core.display.HTML object>"
            ],
            "text/html": [
              "\n",
              "     <input type=\"file\" id=\"files-254ce3c8-ec7f-4d01-969e-7408d30800e5\" name=\"files[]\" multiple disabled\n",
              "        style=\"border:none\" />\n",
              "     <output id=\"result-254ce3c8-ec7f-4d01-969e-7408d30800e5\">\n",
              "      Upload widget is only available when the cell has been executed in the\n",
              "      current browser session. Please rerun this cell to enable.\n",
              "      </output>\n",
              "      <script>// Copyright 2017 Google LLC\n",
              "//\n",
              "// Licensed under the Apache License, Version 2.0 (the \"License\");\n",
              "// you may not use this file except in compliance with the License.\n",
              "// You may obtain a copy of the License at\n",
              "//\n",
              "//      http://www.apache.org/licenses/LICENSE-2.0\n",
              "//\n",
              "// Unless required by applicable law or agreed to in writing, software\n",
              "// distributed under the License is distributed on an \"AS IS\" BASIS,\n",
              "// WITHOUT WARRANTIES OR CONDITIONS OF ANY KIND, either express or implied.\n",
              "// See the License for the specific language governing permissions and\n",
              "// limitations under the License.\n",
              "\n",
              "/**\n",
              " * @fileoverview Helpers for google.colab Python module.\n",
              " */\n",
              "(function(scope) {\n",
              "function span(text, styleAttributes = {}) {\n",
              "  const element = document.createElement('span');\n",
              "  element.textContent = text;\n",
              "  for (const key of Object.keys(styleAttributes)) {\n",
              "    element.style[key] = styleAttributes[key];\n",
              "  }\n",
              "  return element;\n",
              "}\n",
              "\n",
              "// Max number of bytes which will be uploaded at a time.\n",
              "const MAX_PAYLOAD_SIZE = 100 * 1024;\n",
              "\n",
              "function _uploadFiles(inputId, outputId) {\n",
              "  const steps = uploadFilesStep(inputId, outputId);\n",
              "  const outputElement = document.getElementById(outputId);\n",
              "  // Cache steps on the outputElement to make it available for the next call\n",
              "  // to uploadFilesContinue from Python.\n",
              "  outputElement.steps = steps;\n",
              "\n",
              "  return _uploadFilesContinue(outputId);\n",
              "}\n",
              "\n",
              "// This is roughly an async generator (not supported in the browser yet),\n",
              "// where there are multiple asynchronous steps and the Python side is going\n",
              "// to poll for completion of each step.\n",
              "// This uses a Promise to block the python side on completion of each step,\n",
              "// then passes the result of the previous step as the input to the next step.\n",
              "function _uploadFilesContinue(outputId) {\n",
              "  const outputElement = document.getElementById(outputId);\n",
              "  const steps = outputElement.steps;\n",
              "\n",
              "  const next = steps.next(outputElement.lastPromiseValue);\n",
              "  return Promise.resolve(next.value.promise).then((value) => {\n",
              "    // Cache the last promise value to make it available to the next\n",
              "    // step of the generator.\n",
              "    outputElement.lastPromiseValue = value;\n",
              "    return next.value.response;\n",
              "  });\n",
              "}\n",
              "\n",
              "/**\n",
              " * Generator function which is called between each async step of the upload\n",
              " * process.\n",
              " * @param {string} inputId Element ID of the input file picker element.\n",
              " * @param {string} outputId Element ID of the output display.\n",
              " * @return {!Iterable<!Object>} Iterable of next steps.\n",
              " */\n",
              "function* uploadFilesStep(inputId, outputId) {\n",
              "  const inputElement = document.getElementById(inputId);\n",
              "  inputElement.disabled = false;\n",
              "\n",
              "  const outputElement = document.getElementById(outputId);\n",
              "  outputElement.innerHTML = '';\n",
              "\n",
              "  const pickedPromise = new Promise((resolve) => {\n",
              "    inputElement.addEventListener('change', (e) => {\n",
              "      resolve(e.target.files);\n",
              "    });\n",
              "  });\n",
              "\n",
              "  const cancel = document.createElement('button');\n",
              "  inputElement.parentElement.appendChild(cancel);\n",
              "  cancel.textContent = 'Cancel upload';\n",
              "  const cancelPromise = new Promise((resolve) => {\n",
              "    cancel.onclick = () => {\n",
              "      resolve(null);\n",
              "    };\n",
              "  });\n",
              "\n",
              "  // Wait for the user to pick the files.\n",
              "  const files = yield {\n",
              "    promise: Promise.race([pickedPromise, cancelPromise]),\n",
              "    response: {\n",
              "      action: 'starting',\n",
              "    }\n",
              "  };\n",
              "\n",
              "  cancel.remove();\n",
              "\n",
              "  // Disable the input element since further picks are not allowed.\n",
              "  inputElement.disabled = true;\n",
              "\n",
              "  if (!files) {\n",
              "    return {\n",
              "      response: {\n",
              "        action: 'complete',\n",
              "      }\n",
              "    };\n",
              "  }\n",
              "\n",
              "  for (const file of files) {\n",
              "    const li = document.createElement('li');\n",
              "    li.append(span(file.name, {fontWeight: 'bold'}));\n",
              "    li.append(span(\n",
              "        `(${file.type || 'n/a'}) - ${file.size} bytes, ` +\n",
              "        `last modified: ${\n",
              "            file.lastModifiedDate ? file.lastModifiedDate.toLocaleDateString() :\n",
              "                                    'n/a'} - `));\n",
              "    const percent = span('0% done');\n",
              "    li.appendChild(percent);\n",
              "\n",
              "    outputElement.appendChild(li);\n",
              "\n",
              "    const fileDataPromise = new Promise((resolve) => {\n",
              "      const reader = new FileReader();\n",
              "      reader.onload = (e) => {\n",
              "        resolve(e.target.result);\n",
              "      };\n",
              "      reader.readAsArrayBuffer(file);\n",
              "    });\n",
              "    // Wait for the data to be ready.\n",
              "    let fileData = yield {\n",
              "      promise: fileDataPromise,\n",
              "      response: {\n",
              "        action: 'continue',\n",
              "      }\n",
              "    };\n",
              "\n",
              "    // Use a chunked sending to avoid message size limits. See b/62115660.\n",
              "    let position = 0;\n",
              "    do {\n",
              "      const length = Math.min(fileData.byteLength - position, MAX_PAYLOAD_SIZE);\n",
              "      const chunk = new Uint8Array(fileData, position, length);\n",
              "      position += length;\n",
              "\n",
              "      const base64 = btoa(String.fromCharCode.apply(null, chunk));\n",
              "      yield {\n",
              "        response: {\n",
              "          action: 'append',\n",
              "          file: file.name,\n",
              "          data: base64,\n",
              "        },\n",
              "      };\n",
              "\n",
              "      let percentDone = fileData.byteLength === 0 ?\n",
              "          100 :\n",
              "          Math.round((position / fileData.byteLength) * 100);\n",
              "      percent.textContent = `${percentDone}% done`;\n",
              "\n",
              "    } while (position < fileData.byteLength);\n",
              "  }\n",
              "\n",
              "  // All done.\n",
              "  yield {\n",
              "    response: {\n",
              "      action: 'complete',\n",
              "    }\n",
              "  };\n",
              "}\n",
              "\n",
              "scope.google = scope.google || {};\n",
              "scope.google.colab = scope.google.colab || {};\n",
              "scope.google.colab._files = {\n",
              "  _uploadFiles,\n",
              "  _uploadFilesContinue,\n",
              "};\n",
              "})(self);\n",
              "</script> "
            ]
          },
          "metadata": {}
        },
        {
          "output_type": "stream",
          "name": "stdout",
          "text": [
            "Saving sal.csv to sal.csv\n"
          ]
        }
      ]
    },
    {
      "cell_type": "markdown",
      "source": [
        "***Loading Dataset***"
      ],
      "metadata": {
        "id": "k8RdxzBbiApo"
      }
    },
    {
      "cell_type": "code",
      "source": [
        "dataset = pd.read_csv('sal.csv')"
      ],
      "metadata": {
        "id": "4E0qUgq2ObTI"
      },
      "execution_count": 6,
      "outputs": []
    },
    {
      "cell_type": "code",
      "source": [
        "dataset"
      ],
      "metadata": {
        "colab": {
          "base_uri": "https://localhost:8080/",
          "height": 424
        },
        "id": "I4LxKIT8iX2D",
        "outputId": "6f785c82-76fe-495f-fdd0-b88d508e0368"
      },
      "execution_count": 7,
      "outputs": [
        {
          "output_type": "execute_result",
          "data": {
            "text/plain": [
              "    age  education.num  capital.gain  hours.per.week income\n",
              "0    90              8             0              40  <=50K\n",
              "1    82              5             0              18  <=50K\n",
              "2    66              6             0              40   >50K\n",
              "3    54              9             0              40  <=50K\n",
              "4    41              3             0              40  <=50K\n",
              "..  ...            ...           ...             ...    ...\n",
              "94   32              6             0              40  <=50K\n",
              "95   43              6             0              43  <=50K\n",
              "96   32             12             0              40  <=50K\n",
              "97   54              6             0              65  <=50K\n",
              "98   27             12             0              40  <=50K\n",
              "\n",
              "[99 rows x 5 columns]"
            ],
            "text/html": [
              "\n",
              "  <div id=\"df-c2c18059-a69e-48e0-ad81-92b113dd1337\">\n",
              "    <div class=\"colab-df-container\">\n",
              "      <div>\n",
              "<style scoped>\n",
              "    .dataframe tbody tr th:only-of-type {\n",
              "        vertical-align: middle;\n",
              "    }\n",
              "\n",
              "    .dataframe tbody tr th {\n",
              "        vertical-align: top;\n",
              "    }\n",
              "\n",
              "    .dataframe thead th {\n",
              "        text-align: right;\n",
              "    }\n",
              "</style>\n",
              "<table border=\"1\" class=\"dataframe\">\n",
              "  <thead>\n",
              "    <tr style=\"text-align: right;\">\n",
              "      <th></th>\n",
              "      <th>age</th>\n",
              "      <th>education.num</th>\n",
              "      <th>capital.gain</th>\n",
              "      <th>hours.per.week</th>\n",
              "      <th>income</th>\n",
              "    </tr>\n",
              "  </thead>\n",
              "  <tbody>\n",
              "    <tr>\n",
              "      <th>0</th>\n",
              "      <td>90</td>\n",
              "      <td>8</td>\n",
              "      <td>0</td>\n",
              "      <td>40</td>\n",
              "      <td>&lt;=50K</td>\n",
              "    </tr>\n",
              "    <tr>\n",
              "      <th>1</th>\n",
              "      <td>82</td>\n",
              "      <td>5</td>\n",
              "      <td>0</td>\n",
              "      <td>18</td>\n",
              "      <td>&lt;=50K</td>\n",
              "    </tr>\n",
              "    <tr>\n",
              "      <th>2</th>\n",
              "      <td>66</td>\n",
              "      <td>6</td>\n",
              "      <td>0</td>\n",
              "      <td>40</td>\n",
              "      <td>&gt;50K</td>\n",
              "    </tr>\n",
              "    <tr>\n",
              "      <th>3</th>\n",
              "      <td>54</td>\n",
              "      <td>9</td>\n",
              "      <td>0</td>\n",
              "      <td>40</td>\n",
              "      <td>&lt;=50K</td>\n",
              "    </tr>\n",
              "    <tr>\n",
              "      <th>4</th>\n",
              "      <td>41</td>\n",
              "      <td>3</td>\n",
              "      <td>0</td>\n",
              "      <td>40</td>\n",
              "      <td>&lt;=50K</td>\n",
              "    </tr>\n",
              "    <tr>\n",
              "      <th>...</th>\n",
              "      <td>...</td>\n",
              "      <td>...</td>\n",
              "      <td>...</td>\n",
              "      <td>...</td>\n",
              "      <td>...</td>\n",
              "    </tr>\n",
              "    <tr>\n",
              "      <th>94</th>\n",
              "      <td>32</td>\n",
              "      <td>6</td>\n",
              "      <td>0</td>\n",
              "      <td>40</td>\n",
              "      <td>&lt;=50K</td>\n",
              "    </tr>\n",
              "    <tr>\n",
              "      <th>95</th>\n",
              "      <td>43</td>\n",
              "      <td>6</td>\n",
              "      <td>0</td>\n",
              "      <td>43</td>\n",
              "      <td>&lt;=50K</td>\n",
              "    </tr>\n",
              "    <tr>\n",
              "      <th>96</th>\n",
              "      <td>32</td>\n",
              "      <td>12</td>\n",
              "      <td>0</td>\n",
              "      <td>40</td>\n",
              "      <td>&lt;=50K</td>\n",
              "    </tr>\n",
              "    <tr>\n",
              "      <th>97</th>\n",
              "      <td>54</td>\n",
              "      <td>6</td>\n",
              "      <td>0</td>\n",
              "      <td>65</td>\n",
              "      <td>&lt;=50K</td>\n",
              "    </tr>\n",
              "    <tr>\n",
              "      <th>98</th>\n",
              "      <td>27</td>\n",
              "      <td>12</td>\n",
              "      <td>0</td>\n",
              "      <td>40</td>\n",
              "      <td>&lt;=50K</td>\n",
              "    </tr>\n",
              "  </tbody>\n",
              "</table>\n",
              "<p>99 rows × 5 columns</p>\n",
              "</div>\n",
              "      <button class=\"colab-df-convert\" onclick=\"convertToInteractive('df-c2c18059-a69e-48e0-ad81-92b113dd1337')\"\n",
              "              title=\"Convert this dataframe to an interactive table.\"\n",
              "              style=\"display:none;\">\n",
              "        \n",
              "  <svg xmlns=\"http://www.w3.org/2000/svg\" height=\"24px\"viewBox=\"0 0 24 24\"\n",
              "       width=\"24px\">\n",
              "    <path d=\"M0 0h24v24H0V0z\" fill=\"none\"/>\n",
              "    <path d=\"M18.56 5.44l.94 2.06.94-2.06 2.06-.94-2.06-.94-.94-2.06-.94 2.06-2.06.94zm-11 1L8.5 8.5l.94-2.06 2.06-.94-2.06-.94L8.5 2.5l-.94 2.06-2.06.94zm10 10l.94 2.06.94-2.06 2.06-.94-2.06-.94-.94-2.06-.94 2.06-2.06.94z\"/><path d=\"M17.41 7.96l-1.37-1.37c-.4-.4-.92-.59-1.43-.59-.52 0-1.04.2-1.43.59L10.3 9.45l-7.72 7.72c-.78.78-.78 2.05 0 2.83L4 21.41c.39.39.9.59 1.41.59.51 0 1.02-.2 1.41-.59l7.78-7.78 2.81-2.81c.8-.78.8-2.07 0-2.86zM5.41 20L4 18.59l7.72-7.72 1.47 1.35L5.41 20z\"/>\n",
              "  </svg>\n",
              "      </button>\n",
              "      \n",
              "  <style>\n",
              "    .colab-df-container {\n",
              "      display:flex;\n",
              "      flex-wrap:wrap;\n",
              "      gap: 12px;\n",
              "    }\n",
              "\n",
              "    .colab-df-convert {\n",
              "      background-color: #E8F0FE;\n",
              "      border: none;\n",
              "      border-radius: 50%;\n",
              "      cursor: pointer;\n",
              "      display: none;\n",
              "      fill: #1967D2;\n",
              "      height: 32px;\n",
              "      padding: 0 0 0 0;\n",
              "      width: 32px;\n",
              "    }\n",
              "\n",
              "    .colab-df-convert:hover {\n",
              "      background-color: #E2EBFA;\n",
              "      box-shadow: 0px 1px 2px rgba(60, 64, 67, 0.3), 0px 1px 3px 1px rgba(60, 64, 67, 0.15);\n",
              "      fill: #174EA6;\n",
              "    }\n",
              "\n",
              "    [theme=dark] .colab-df-convert {\n",
              "      background-color: #3B4455;\n",
              "      fill: #D2E3FC;\n",
              "    }\n",
              "\n",
              "    [theme=dark] .colab-df-convert:hover {\n",
              "      background-color: #434B5C;\n",
              "      box-shadow: 0px 1px 3px 1px rgba(0, 0, 0, 0.15);\n",
              "      filter: drop-shadow(0px 1px 2px rgba(0, 0, 0, 0.3));\n",
              "      fill: #FFFFFF;\n",
              "    }\n",
              "  </style>\n",
              "\n",
              "      <script>\n",
              "        const buttonEl =\n",
              "          document.querySelector('#df-c2c18059-a69e-48e0-ad81-92b113dd1337 button.colab-df-convert');\n",
              "        buttonEl.style.display =\n",
              "          google.colab.kernel.accessAllowed ? 'block' : 'none';\n",
              "\n",
              "        async function convertToInteractive(key) {\n",
              "          const element = document.querySelector('#df-c2c18059-a69e-48e0-ad81-92b113dd1337');\n",
              "          const dataTable =\n",
              "            await google.colab.kernel.invokeFunction('convertToInteractive',\n",
              "                                                     [key], {});\n",
              "          if (!dataTable) return;\n",
              "\n",
              "          const docLinkHtml = 'Like what you see? Visit the ' +\n",
              "            '<a target=\"_blank\" href=https://colab.research.google.com/notebooks/data_table.ipynb>data table notebook</a>'\n",
              "            + ' to learn more about interactive tables.';\n",
              "          element.innerHTML = '';\n",
              "          dataTable['output_type'] = 'display_data';\n",
              "          await google.colab.output.renderOutput(dataTable, element);\n",
              "          const docLink = document.createElement('div');\n",
              "          docLink.innerHTML = docLinkHtml;\n",
              "          element.appendChild(docLink);\n",
              "        }\n",
              "      </script>\n",
              "    </div>\n",
              "  </div>\n",
              "  "
            ]
          },
          "metadata": {},
          "execution_count": 7
        }
      ]
    },
    {
      "cell_type": "markdown",
      "source": [
        "***Mapping Salary Data to Binary Value***"
      ],
      "metadata": {
        "id": "_uLQbFsyifTb"
      }
    },
    {
      "cell_type": "code",
      "source": [
        "income_set = set(dataset['income'])\n",
        "dataset['income'] = dataset['income'].map({'<=50K':0, '>50K':1})\n",
        "print(dataset.head(20))"
      ],
      "metadata": {
        "colab": {
          "base_uri": "https://localhost:8080/"
        },
        "id": "Q5r7R2gsil0S",
        "outputId": "db9eddd4-901d-4c91-9ed8-025a023c8213"
      },
      "execution_count": 8,
      "outputs": [
        {
          "output_type": "stream",
          "name": "stdout",
          "text": [
            "    age  education.num  capital.gain  hours.per.week  income\n",
            "0    90              8             0              40       0\n",
            "1    82              5             0              18       0\n",
            "2    66              6             0              40       1\n",
            "3    54              9             0              40       0\n",
            "4    41              3             0              40       0\n",
            "5    34              2             0              45       1\n",
            "6    38              8             0              20       0\n",
            "7    74              1             0              40       0\n",
            "8    68              9             0              60       0\n",
            "9    41             12             0              40       1\n",
            "10   45             15             0              35       0\n",
            "11   38              1             0              45       0\n",
            "12   52              3             0              20       0\n",
            "13   32              5             0              40       0\n",
            "14   51              5             0              55       0\n",
            "15   46              9             0              40       0\n",
            "16   45              9             0              76       0\n",
            "17   57              2             0              40       1\n",
            "18   22              5             0              50       1\n",
            "19   23             11             0              40       1\n"
          ]
        }
      ]
    },
    {
      "cell_type": "markdown",
      "source": [
        "***Segregate dataset into X(input/independent variable) and Y(output/dependent variable)***"
      ],
      "metadata": {
        "id": "xvI2b7JTjHqb"
      }
    },
    {
      "cell_type": "code",
      "source": [
        "X = dataset.iloc[:, :-1].values\n",
        "X"
      ],
      "metadata": {
        "colab": {
          "base_uri": "https://localhost:8080/"
        },
        "id": "giw40DiQjXz6",
        "outputId": "ee568d03-a608-4d14-a9e4-6b99b470a6a6"
      },
      "execution_count": 9,
      "outputs": [
        {
          "output_type": "execute_result",
          "data": {
            "text/plain": [
              "array([[90,  8,  0, 40],\n",
              "       [82,  5,  0, 18],\n",
              "       [66,  6,  0, 40],\n",
              "       [54,  9,  0, 40],\n",
              "       [41,  3,  0, 40],\n",
              "       [34,  2,  0, 45],\n",
              "       [38,  8,  0, 20],\n",
              "       [74,  1,  0, 40],\n",
              "       [68,  9,  0, 60],\n",
              "       [41, 12,  0, 40],\n",
              "       [45, 15,  0, 35],\n",
              "       [38,  1,  0, 45],\n",
              "       [52,  3,  0, 20],\n",
              "       [32,  5,  0, 40],\n",
              "       [51,  5,  0, 55],\n",
              "       [46,  9,  0, 40],\n",
              "       [45,  9,  0, 76],\n",
              "       [57,  2,  0, 40],\n",
              "       [22,  5,  0, 50],\n",
              "       [23, 11,  0, 40],\n",
              "       [25,  6,  0, 34],\n",
              "       [32, 15,  0, 40],\n",
              "       [26, 13,  0, 40],\n",
              "       [28, 13,  0, 54],\n",
              "       [32,  6,  0, 21],\n",
              "       [32,  6,  0, 40],\n",
              "       [38, 15,  0, 44],\n",
              "       [26,  6,  0, 40],\n",
              "       [23, 15,  0, 23],\n",
              "       [32,  6,  0, 40],\n",
              "       [32,  6,  0, 40],\n",
              "       [26, 14,  0, 87],\n",
              "       [32,  6,  0, 40],\n",
              "       [32, 15,  0, 40],\n",
              "       [27,  6,  0, 43],\n",
              "       [32, 15,  0, 40],\n",
              "       [29,  6,  0, 40],\n",
              "       [32,  6,  0, 26],\n",
              "       [32, 15,  0, 40],\n",
              "       [32,  6,  0, 40],\n",
              "       [32, 11,  0, 56],\n",
              "       [32,  6,  0, 40],\n",
              "       [65,  6,  0, 40],\n",
              "       [32, 16,  0, 40],\n",
              "       [34,  6,  0, 40],\n",
              "       [32,  6,  0, 40],\n",
              "       [54, 17,  0, 43],\n",
              "       [32,  6,  0, 40],\n",
              "       [32, 16,  0, 40],\n",
              "       [23,  6,  0, 65],\n",
              "       [32,  6,  0, 40],\n",
              "       [54, 17,  0, 40],\n",
              "       [32,  6,  0, 21],\n",
              "       [37,  6,  0, 40],\n",
              "       [32, 15,  0, 40],\n",
              "       [49,  6,  0, 78],\n",
              "       [21,  6,  0, 40],\n",
              "       [32,  1,  0, 40],\n",
              "       [56,  5,  0, 54],\n",
              "       [32,  1,  0, 40],\n",
              "       [32, 14,  0, 40],\n",
              "       [43,  6,  0, 32],\n",
              "       [32,  6,  0, 40],\n",
              "       [56,  6,  0, 54],\n",
              "       [32, 15,  0, 40],\n",
              "       [28,  6,  0, 32],\n",
              "       [38, 16,  0, 40],\n",
              "       [32,  6,  0, 65],\n",
              "       [29,  6,  0, 40],\n",
              "       [32, 15,  0, 40],\n",
              "       [54,  6,  0, 32],\n",
              "       [38,  6,  0, 40],\n",
              "       [45,  6,  0, 40],\n",
              "       [32, 16,  0, 34],\n",
              "       [27,  6,  0, 40],\n",
              "       [26, 17,  0, 27],\n",
              "       [32,  6,  0, 40],\n",
              "       [49,  6,  0, 40],\n",
              "       [27, 17,  0, 58],\n",
              "       [39,  6,  0, 40],\n",
              "       [43,  1,  0, 24],\n",
              "       [32,  5,  0, 40],\n",
              "       [26, 15,  0, 40],\n",
              "       [36,  6,  0, 39],\n",
              "       [32,  6,  0, 40],\n",
              "       [32, 61,  0, 29],\n",
              "       [43,  1,  0, 40],\n",
              "       [32,  6,  0, 23],\n",
              "       [23, 61,  0, 40],\n",
              "       [32,  6,  0, 45],\n",
              "       [45,  6,  0, 40],\n",
              "       [39, 63,  0, 32],\n",
              "       [32,  6,  0, 40],\n",
              "       [24, 12,  0, 43],\n",
              "       [32,  6,  0, 40],\n",
              "       [43,  6,  0, 43],\n",
              "       [32, 12,  0, 40],\n",
              "       [54,  6,  0, 65],\n",
              "       [27, 12,  0, 40]])"
            ]
          },
          "metadata": {},
          "execution_count": 9
        }
      ]
    },
    {
      "cell_type": "code",
      "source": [
        "Y = dataset.iloc[:, -1].values\n",
        "Y"
      ],
      "metadata": {
        "colab": {
          "base_uri": "https://localhost:8080/"
        },
        "id": "hiIJ5Brqjh8v",
        "outputId": "68bc52a2-3129-492a-c6dc-0f054d73d7fd"
      },
      "execution_count": 10,
      "outputs": [
        {
          "output_type": "execute_result",
          "data": {
            "text/plain": [
              "array([0, 0, 1, 0, 0, 1, 0, 0, 0, 1, 0, 0, 0, 0, 0, 0, 0, 1, 1, 1, 1, 1,\n",
              "       1, 1, 1, 1, 0, 0, 0, 0, 1, 0, 0, 0, 1, 0, 0, 0, 0, 0, 0, 1, 1, 1,\n",
              "       1, 1, 1, 1, 1, 0, 0, 0, 0, 0, 1, 0, 0, 0, 0, 0, 0, 0, 0, 0, 0, 0,\n",
              "       0, 0, 0, 0, 0, 0, 0, 0, 0, 0, 0, 0, 0, 0, 0, 0, 1, 1, 1, 1, 0, 0,\n",
              "       0, 0, 0, 1, 1, 1, 0, 0, 0, 0, 0])"
            ]
          },
          "metadata": {},
          "execution_count": 10
        }
      ]
    },
    {
      "cell_type": "markdown",
      "source": [
        "***Splitting Dataset into Train and Test***"
      ],
      "metadata": {
        "id": "TVwSkuvZjrkW"
      }
    },
    {
      "cell_type": "code",
      "source": [
        "!pip install scikit-learn"
      ],
      "metadata": {
        "colab": {
          "base_uri": "https://localhost:8080/"
        },
        "id": "I2Ko6tEHjya3",
        "outputId": "086c39d5-cf95-420c-ff17-1ee14a5596f5"
      },
      "execution_count": 11,
      "outputs": [
        {
          "output_type": "stream",
          "name": "stdout",
          "text": [
            "Looking in indexes: https://pypi.org/simple, https://us-python.pkg.dev/colab-wheels/public/simple/\n",
            "Requirement already satisfied: scikit-learn in /usr/local/lib/python3.7/dist-packages (1.0.2)\n",
            "Requirement already satisfied: numpy>=1.14.6 in /usr/local/lib/python3.7/dist-packages (from scikit-learn) (1.21.6)\n",
            "Requirement already satisfied: threadpoolctl>=2.0.0 in /usr/local/lib/python3.7/dist-packages (from scikit-learn) (3.1.0)\n",
            "Requirement already satisfied: joblib>=0.11 in /usr/local/lib/python3.7/dist-packages (from scikit-learn) (1.1.0)\n",
            "Requirement already satisfied: scipy>=1.1.0 in /usr/local/lib/python3.7/dist-packages (from scikit-learn) (1.7.3)\n"
          ]
        }
      ]
    },
    {
      "cell_type": "code",
      "source": [
        "#Scikit Learn\n",
        "from sklearn.model_selection import train_test_split #sklearn - split\n",
        "X_train, X_test, y_train, y_test = train_test_split(X, Y, test_size = 0.25, random_state = 0)\n"
      ],
      "metadata": {
        "id": "OYsidNySj5fq"
      },
      "execution_count": 12,
      "outputs": []
    },
    {
      "cell_type": "markdown",
      "source": [
        "***Feature Scaling***"
      ],
      "metadata": {
        "id": "yv8kR8mekZx6"
      }
    },
    {
      "cell_type": "code",
      "source": [
        "from sklearn.preprocessing import StandardScaler\n",
        "sc = StandardScaler()\n",
        "X_train = sc.fit_transform(X_train)\n",
        "X_test = sc.transform(X_test)\n",
        "X_train"
      ],
      "metadata": {
        "colab": {
          "base_uri": "https://localhost:8080/"
        },
        "id": "gcBsP8-XkeUa",
        "outputId": "4eec4b26-6406-4111-d14e-e98a03f4396d"
      },
      "execution_count": 13,
      "outputs": [
        {
          "output_type": "execute_result",
          "data": {
            "text/plain": [
              "array([[-0.39726507,  0.68988101,  0.        , -0.05075766],\n",
              "       [ 0.07184581, -0.14191035,  0.        , -1.92879113],\n",
              "       [-0.7881908 ,  0.27398533,  0.        , -0.05075766],\n",
              "       [-0.86637594,  0.58590709,  0.        , -0.05075766],\n",
              "       [-0.39726507, -0.34985819,  0.        , -0.05075766],\n",
              "       [-0.39726507,  0.48193317,  0.        , -0.05075766],\n",
              "       [ 0.46277154, -0.86972779,  0.        , -1.55318444],\n",
              "       [-0.39726507, -0.34985819,  0.        ,  0.41875071],\n",
              "       [-0.6318205 , -0.34985819,  0.        , -0.05075766],\n",
              "       [ 1.32280815,  0.79385493,  0.        , -0.05075766],\n",
              "       [-0.86637594, -0.34985819,  0.        , -0.05075766],\n",
              "       [-1.17911653, -0.45383211,  0.        ,  0.88825907],\n",
              "       [-1.25730167, -0.34985819,  0.        , -0.05075766],\n",
              "       [ 1.47917844, -0.34985819,  0.        ,  1.26386577],\n",
              "       [-0.7881908 , -0.34985819,  0.        , -0.05075766],\n",
              "       [ 3.51199223, -0.45383211,  0.        , -2.11659448],\n",
              "       [ 0.46277154, -0.34985819,  0.        , -0.80197105],\n",
              "       [ 2.18284475, -0.34985819,  0.        , -0.05075766],\n",
              "       [-0.39726507, -0.34985819,  0.        , -0.05075766],\n",
              "       [ 0.30640125, -0.66177995,  0.        , -0.05075766],\n",
              "       [ 0.69732698, -0.03793643,  0.        , -0.05075766],\n",
              "       [ 1.55736358, -0.76575387,  0.        , -0.05075766],\n",
              "       [-0.39726507,  0.17001141,  0.        ,  1.45166911],\n",
              "       [-0.39726507,  0.58590709,  0.        , -0.05075766],\n",
              "       [-0.24089477, -0.76575387,  0.        ,  0.41875071],\n",
              "       [ 0.61914183, -0.34985819,  0.        , -0.05075766],\n",
              "       [-0.39726507, -0.86972779,  0.        , -0.05075766],\n",
              "       [ 4.1374734 , -0.14191035,  0.        , -0.05075766],\n",
              "       [-0.7881908 , -0.34985819,  0.        ,  0.23094736],\n",
              "       [-1.10093138,  0.58590709,  0.        , -1.64708611],\n",
              "       [-0.39726507, -0.34985819,  0.        , -0.05075766],\n",
              "       [ 0.07184581, -0.86972779,  0.        ,  0.41875071],\n",
              "       [-0.39726507,  0.58590709,  0.        , -0.05075766],\n",
              "       [-0.71000565,  0.37795925,  0.        ,  1.26386577],\n",
              "       [-0.39726507, -0.34985819,  0.        , -1.83488946],\n",
              "       [ 0.61914183,  0.58590709,  0.        , -0.52026603],\n",
              "       [-0.86637594,  0.48193317,  0.        ,  4.36262099],\n",
              "       [ 0.07184581,  0.68988101,  0.        , -0.05075766],\n",
              "       [-0.39726507, -0.86972779,  0.        , -0.05075766],\n",
              "       [ 0.15003096, -0.34985819,  0.        , -0.05075766],\n",
              "       [-0.39726507,  5.36870741,  0.        , -1.08367607],\n",
              "       [-0.39726507, -0.34985819,  0.        , -0.05075766],\n",
              "       [-0.39726507, -0.34985819,  0.        , -0.05075766],\n",
              "       [ 1.08825271, -0.45383211,  0.        ,  1.35776744],\n",
              "       [-1.10093138,  5.36870741,  0.        , -0.05075766],\n",
              "       [-1.10093138,  0.17001141,  0.        , -0.05075766],\n",
              "       [-0.39726507, -0.34985819,  0.        , -0.05075766],\n",
              "       [-1.10093138, -0.34985819,  0.        ,  2.29678417],\n",
              "       [-0.39726507,  0.27398533,  0.        , -0.05075766],\n",
              "       [ 1.32280815, -0.34985819,  0.        ,  2.29678417],\n",
              "       [-0.39726507,  0.58590709,  0.        , -0.05075766],\n",
              "       [-0.94456109, -0.34985819,  0.        , -0.6141677 ],\n",
              "       [-1.02274623,  0.27398533,  0.        ,  0.23094736],\n",
              "       [ 0.61914183, -0.34985819,  0.        , -0.05075766],\n",
              "       [ 0.93188242, -0.34985819,  0.        , -0.05075766],\n",
              "       [-0.39726507, -0.34985819,  0.        , -0.05075766],\n",
              "       [-0.39726507, -0.34985819,  0.        , -1.36538109],\n",
              "       [-0.39726507, -0.45383211,  0.        , -0.05075766],\n",
              "       [ 1.32280815,  0.79385493,  0.        ,  0.23094736],\n",
              "       [-0.39726507, -0.34985819,  0.        , -0.05075766],\n",
              "       [-0.71000565, -0.34985819,  0.        , -0.80197105],\n",
              "       [ 1.47917844, -0.45383211,  0.        ,  1.26386577],\n",
              "       [ 1.16643785, -0.66177995,  0.        , -1.92879113],\n",
              "       [ 1.32280815, -0.34985819,  0.        , -0.80197105],\n",
              "       [-0.39726507, -0.34985819,  0.        , -1.64708611],\n",
              "       [-0.6318205 , -0.34985819,  0.        , -0.05075766],\n",
              "       [-0.39726507,  0.58590709,  0.        , -0.05075766],\n",
              "       [-0.08452448, -0.34985819,  0.        , -0.14465933],\n",
              "       [ 0.30640125,  0.27398533,  0.        , -0.05075766],\n",
              "       [ 0.46277154, -0.34985819,  0.        ,  0.23094736],\n",
              "       [-0.39726507, -0.34985819,  0.        ,  2.29678417],\n",
              "       [-0.39726507,  0.58590709,  0.        , -0.05075766],\n",
              "       [-0.39726507, -0.34985819,  0.        , -0.05075766],\n",
              "       [-0.24089477, -0.34985819,  0.        , -0.05075766]])"
            ]
          },
          "metadata": {},
          "execution_count": 13
        }
      ]
    },
    {
      "cell_type": "markdown",
      "source": [
        "***Finding the Best K-Value***"
      ],
      "metadata": {
        "id": "6LylpDTAk1TL"
      }
    },
    {
      "cell_type": "code",
      "source": [
        "error = []\n",
        "from sklearn.neighbors import KNeighborsClassifier #Algorithm\n",
        "import matplotlib.pyplot as plt #Data Visulaization\n",
        "\n",
        "#Calculating error for K values between 1 and 40\n",
        "for i in range(1, 40):\n",
        "  model = KNeighborsClassifier(n_neighbors=i)\n",
        "  model.fit(X_train, y_train)\n",
        "  pred_i = model.predict(X_test)\n",
        "  error.append(np.mean(pred_i != y_test))\n",
        "  \n",
        "plt.figure(figsize=(12, 6))\n",
        "plt.plot(range(1, 40), error, color='red', linestyle='dashed', marker='o', markerfacecolor='blue', markersize=10)\n",
        "plt.title('Error Rate K value')\n",
        "plt.xlabel('K Value')\n",
        "plt.ylabel('Mean Error')\n"
      ],
      "metadata": {
        "colab": {
          "base_uri": "https://localhost:8080/",
          "height": 421
        },
        "id": "UWEexi37k8Wx",
        "outputId": "47f1d71a-6c93-4309-9aba-f012495879aa"
      },
      "execution_count": 21,
      "outputs": [
        {
          "output_type": "execute_result",
          "data": {
            "text/plain": [
              "Text(0, 0.5, 'Mean Error')"
            ]
          },
          "metadata": {},
          "execution_count": 21
        },
        {
          "output_type": "display_data",
          "data": {
            "text/plain": [
              "<Figure size 864x432 with 1 Axes>"
            ],
            "image/png": "[encoded data removed]"
          },
          "metadata": {
            "needs_background": "light"
          }
        }
      ]
    },
    {
      "cell_type": "markdown",
      "source": [
        "***Training***"
      ],
      "metadata": {
        "id": "lxQ2gwr5qERI"
      }
    },
    {
      "cell_type": "code",
      "source": [
        "from sklearn.neighbors import KNeighborsClassifier\n",
        "model = KNeighborsClassifier(n_neighbors= 30, metric = 'minkowski', p=2)\n",
        "model.fit(X_train, y_train)"
      ],
      "metadata": {
        "colab": {
          "base_uri": "https://localhost:8080/"
        },
        "id": "auj1x8r6qHdC",
        "outputId": "c4a5c944-7196-4514-d006-761860ea3be0"
      },
      "execution_count": 22,
      "outputs": [
        {
          "output_type": "execute_result",
          "data": {
            "text/plain": [
              "KNeighborsClassifier(n_neighbors=30)"
            ]
          },
          "metadata": {},
          "execution_count": 22
        }
      ]
    },
    {
      "cell_type": "markdown",
      "source": [
        "***Predicting Test Data***"
      ],
      "metadata": {
        "id": "bvePfuYrq-mC"
      }
    },
    {
      "cell_type": "code",
      "source": [
        "y_pred = model.predict(X_test)"
      ],
      "metadata": {
        "id": "hgUME0OprGn7"
      },
      "execution_count": 24,
      "outputs": []
    },
    {
      "cell_type": "markdown",
      "source": [
        "***Evaluating Model - CONFUSION MATRIX***"
      ],
      "metadata": {
        "id": "iPL5UWWBrQP9"
      }
    },
    {
      "cell_type": "code",
      "source": [
        "from sklearn.metrics import confusion_matrix, accuracy_score\n",
        "print(\"Accuracy of the Model: {0}%\".format(accuracy_score(y_test,y_pred)*100))"
      ],
      "metadata": {
        "colab": {
          "base_uri": "https://localhost:8080/"
        },
        "id": "QubCCBTMrIEz",
        "outputId": "c63793f8-e792-4c8d-dc6d-9999412ccba8"
      },
      "execution_count": 25,
      "outputs": [
        {
          "output_type": "stream",
          "name": "stdout",
          "text": [
            "Accuracy of the Model: 64.0%\n"
          ]
        }
      ]
    },
    {
      "cell_type": "markdown",
      "source": [
        "***Predicting new data***"
      ],
      "metadata": {
        "id": "xet0AHNjr1bs"
      }
    },
    {
      "cell_type": "code",
      "source": [
        "age = (int)(input(\"Enter New Employee's age: \"))\n",
        "edu = (int)(input(\"Enter New Employee's Education: \"))\n",
        "cg = int(input(\"ENter new employee's Capital Gain: \"))\n",
        "wh = int(input(\"Enter new Employee's Hour's per week\"))\n",
        "newEmp = [[age,edu,cg,wh]]\n",
        "result = model.predict(sc.transform(newEmp))\n",
        "print(result)\n",
        "\n",
        "if result == 1:\n",
        "  print(\"Employee might got salary above 50K\")\n",
        "else:\n",
        "  print(\"Customer might not got salary above 50K\")"
      ],
      "metadata": {
        "colab": {
          "base_uri": "https://localhost:8080/"
        },
        "id": "T1trnxWHr8NK",
        "outputId": "fa412915-7c06-4eb9-90ed-b89b54c242ae"
      },
      "execution_count": 26,
      "outputs": [
        {
          "output_type": "stream",
          "name": "stdout",
          "text": [
            "Enter New Employee's age: 32\n",
            "Enter New Employee's Education: 12\n",
            "ENter new employee's Capital Gain: 0\n",
            "Enter new Employee's Hour's per week32\n",
            "[0]\n",
            "Customer might not got salary above 50K\n"
          ]
        }
      ]
    }
  ]
}