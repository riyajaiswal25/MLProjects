{
  "nbformat": 4,
  "nbformat_minor": 0,
  "metadata": {
    "colab": {
      "provenance": [],
      "authorship_tag": "ABX9TyO4r97fLNZRD+UG2MgC7HcX",
      "include_colab_link": true
    },
    "kernelspec": {
      "name": "python3",
      "display_name": "Python 3"
    },
    "language_info": {
      "name": "python"
    }
  },
  "cells": [
    {
      "cell_type": "markdown",
      "metadata": {
        "id": "view-in-github",
        "colab_type": "text"
      },
      "source": [
        "<a href=\"https://colab.research.google.com/github/riyajaiswal25/MLProjects/blob/main/ClusteringPlantIrisusingPrincipalComponentAnalysis.ipynb\" target=\"_parent\"><img src=\"https://colab.research.google.com/assets/colab-badge.svg\" alt=\"Open In Colab\"/></a>"
      ]
    },
    {
      "cell_type": "markdown",
      "source": [
        "# **Clustering Plant Iris Using Principal Component Analysis**"
      ],
      "metadata": {
        "id": "5wgm3HhKxPeh"
      }
    },
    {
      "cell_type": "markdown",
      "source": [
        "***Importing the basic Libraries***"
      ],
      "metadata": {
        "id": "ImRf9golxXfS"
      }
    },
    {
      "cell_type": "code",
      "execution_count": 1,
      "metadata": {
        "id": "ycqNOMxbxFac"
      },
      "outputs": [],
      "source": [
        "from sklearn import datasets\n",
        "import matplotlib.pyplot as plt"
      ]
    },
    {
      "cell_type": "markdown",
      "source": [
        "***Importing the dataset***"
      ],
      "metadata": {
        "id": "bvU945V8xmQd"
      }
    },
    {
      "cell_type": "code",
      "source": [
        "dataset=datasets.load_iris()"
      ],
      "metadata": {
        "id": "KNggGhuExrCn"
      },
      "execution_count": 2,
      "outputs": []
    },
    {
      "cell_type": "markdown",
      "source": [
        "***Dataset Segregation***"
      ],
      "metadata": {
        "id": "SQQFtcKNx5_Q"
      }
    },
    {
      "cell_type": "code",
      "source": [
        "x = dataset.data\n",
        "y = dataset.target\n",
        "names = dataset.target_names"
      ],
      "metadata": {
        "id": "wP2nEceRx_Co"
      },
      "execution_count": 3,
      "outputs": []
    },
    {
      "cell_type": "markdown",
      "source": [
        "***Fitting the PCA clustering to the dataset with n=2***"
      ],
      "metadata": {
        "id": "hKk5bPULyH__"
      }
    },
    {
      "cell_type": "code",
      "source": [
        "from sklearn.decomposition import PCA\n",
        "model = PCA(n_components=2) #Number of components to keep\n",
        "y_means = model.fit(x).transform(x)"
      ],
      "metadata": {
        "id": "apkwt_bJyOFL"
      },
      "execution_count": 5,
      "outputs": []
    },
    {
      "cell_type": "markdown",
      "source": [
        "***Variance Percentage***"
      ],
      "metadata": {
        "id": "qUKcgCymzB1o"
      }
    },
    {
      "cell_type": "code",
      "source": [
        " plt.figure()\n",
        " colors = ['red', 'green', 'orange']\n",
        "\n",
        " for color, i, target_name in zip(colors, [0, 1, 2], names):\n",
        "   plt.scatter(y_means[y == i, 0], y_means[y == i, 1], color=color, lw=2, label=target_name)\n",
        "plt.title('IRIS Clustering')\n",
        "plt.show()"
      ],
      "metadata": {
        "colab": {
          "base_uri": "https://localhost:8080/",
          "height": 281
        },
        "id": "XtLjPvkuzGQG",
        "outputId": "99d78f6c-097f-4da4-df1b-4d64313a2e1c"
      },
      "execution_count": 6,
      "outputs": [
        {
          "output_type": "display_data",
          "data": {
            "text/plain": [
              "<Figure size 432x288 with 1 Axes>"
            ],
            "image/png": "[encoded data removed]"
          },
          "metadata": {
            "needs_background": "light"
          }
        }
      ]
    }
  ]
}